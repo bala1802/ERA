{
  "nbformat": 4,
  "nbformat_minor": 0,
  "metadata": {
    "colab": {
      "provenance": [],
      "gpuType": "T4",
      "mount_file_id": "1osT6M2HVCGZLfoq9vjUKcHorUTaPiPVz",
      "authorship_tag": "ABX9TyOAv512wqwIBM4KPPVilsEP",
      "include_colab_link": true
    },
    "kernelspec": {
      "name": "python3",
      "display_name": "Python 3"
    },
    "language_info": {
      "name": "python"
    },
    "accelerator": "GPU",
    "widgets": {
      "application/vnd.jupyter.widget-state+json": {
        "f3078fe52820427e959290ce3fc68532": {
          "model_module": "@jupyter-widgets/controls",
          "model_name": "HBoxModel",
          "model_module_version": "1.5.0",
          "state": {
            "_dom_classes": [],
            "_model_module": "@jupyter-widgets/controls",
            "_model_module_version": "1.5.0",
            "_model_name": "HBoxModel",
            "_view_count": null,
            "_view_module": "@jupyter-widgets/controls",
            "_view_module_version": "1.5.0",
            "_view_name": "HBoxView",
            "box_style": "",
            "children": [
              "IPY_MODEL_e8a2f295c5e948adb7b0038490db0e3f",
              "IPY_MODEL_8c9caf6fac4a4de9839f4639c0d25a78",
              "IPY_MODEL_ee650bcb099349d2bfcb33dd3c7db744"
            ],
            "layout": "IPY_MODEL_b265bc6a98024727957ee3239326ced1"
          }
        },
        "e8a2f295c5e948adb7b0038490db0e3f": {
          "model_module": "@jupyter-widgets/controls",
          "model_name": "HTMLModel",
          "model_module_version": "1.5.0",
          "state": {
            "_dom_classes": [],
            "_model_module": "@jupyter-widgets/controls",
            "_model_module_version": "1.5.0",
            "_model_name": "HTMLModel",
            "_view_count": null,
            "_view_module": "@jupyter-widgets/controls",
            "_view_module_version": "1.5.0",
            "_view_name": "HTMLView",
            "description": "",
            "description_tooltip": null,
            "layout": "IPY_MODEL_4896375764774746a4f09a1463f60d17",
            "placeholder": "​",
            "style": "IPY_MODEL_0650e44f27c8474f8328e0c52b464c40",
            "value": " 65%"
          }
        },
        "8c9caf6fac4a4de9839f4639c0d25a78": {
          "model_module": "@jupyter-widgets/controls",
          "model_name": "FloatProgressModel",
          "model_module_version": "1.5.0",
          "state": {
            "_dom_classes": [],
            "_model_module": "@jupyter-widgets/controls",
            "_model_module_version": "1.5.0",
            "_model_name": "FloatProgressModel",
            "_view_count": null,
            "_view_module": "@jupyter-widgets/controls",
            "_view_module_version": "1.5.0",
            "_view_name": "ProgressView",
            "bar_style": "danger",
            "description": "",
            "description_tooltip": null,
            "layout": "IPY_MODEL_898274bb046641619ff340df4077e0dc",
            "max": 200,
            "min": 0,
            "orientation": "horizontal",
            "style": "IPY_MODEL_e8b26f195bae4c8d84b60077712d05c6",
            "value": 130
          }
        },
        "ee650bcb099349d2bfcb33dd3c7db744": {
          "model_module": "@jupyter-widgets/controls",
          "model_name": "HTMLModel",
          "model_module_version": "1.5.0",
          "state": {
            "_dom_classes": [],
            "_model_module": "@jupyter-widgets/controls",
            "_model_module_version": "1.5.0",
            "_model_name": "HTMLModel",
            "_view_count": null,
            "_view_module": "@jupyter-widgets/controls",
            "_view_module_version": "1.5.0",
            "_view_name": "HTMLView",
            "description": "",
            "description_tooltip": null,
            "layout": "IPY_MODEL_5514a37fdd5a4928bb22071a93865e1c",
            "placeholder": "​",
            "style": "IPY_MODEL_a8d3ad2018b843e293a87d2feea59f30",
            "value": " 130/200 [00:48&lt;00:28,  2.48it/s]"
          }
        },
        "b265bc6a98024727957ee3239326ced1": {
          "model_module": "@jupyter-widgets/base",
          "model_name": "LayoutModel",
          "model_module_version": "1.2.0",
          "state": {
            "_model_module": "@jupyter-widgets/base",
            "_model_module_version": "1.2.0",
            "_model_name": "LayoutModel",
            "_view_count": null,
            "_view_module": "@jupyter-widgets/base",
            "_view_module_version": "1.2.0",
            "_view_name": "LayoutView",
            "align_content": null,
            "align_items": null,
            "align_self": null,
            "border": null,
            "bottom": null,
            "display": null,
            "flex": null,
            "flex_flow": null,
            "grid_area": null,
            "grid_auto_columns": null,
            "grid_auto_flow": null,
            "grid_auto_rows": null,
            "grid_column": null,
            "grid_gap": null,
            "grid_row": null,
            "grid_template_areas": null,
            "grid_template_columns": null,
            "grid_template_rows": null,
            "height": null,
            "justify_content": null,
            "justify_items": null,
            "left": null,
            "margin": null,
            "max_height": null,
            "max_width": null,
            "min_height": null,
            "min_width": null,
            "object_fit": null,
            "object_position": null,
            "order": null,
            "overflow": null,
            "overflow_x": null,
            "overflow_y": null,
            "padding": null,
            "right": null,
            "top": null,
            "visibility": null,
            "width": null
          }
        },
        "4896375764774746a4f09a1463f60d17": {
          "model_module": "@jupyter-widgets/base",
          "model_name": "LayoutModel",
          "model_module_version": "1.2.0",
          "state": {
            "_model_module": "@jupyter-widgets/base",
            "_model_module_version": "1.2.0",
            "_model_name": "LayoutModel",
            "_view_count": null,
            "_view_module": "@jupyter-widgets/base",
            "_view_module_version": "1.2.0",
            "_view_name": "LayoutView",
            "align_content": null,
            "align_items": null,
            "align_self": null,
            "border": null,
            "bottom": null,
            "display": null,
            "flex": null,
            "flex_flow": null,
            "grid_area": null,
            "grid_auto_columns": null,
            "grid_auto_flow": null,
            "grid_auto_rows": null,
            "grid_column": null,
            "grid_gap": null,
            "grid_row": null,
            "grid_template_areas": null,
            "grid_template_columns": null,
            "grid_template_rows": null,
            "height": null,
            "justify_content": null,
            "justify_items": null,
            "left": null,
            "margin": null,
            "max_height": null,
            "max_width": null,
            "min_height": null,
            "min_width": null,
            "object_fit": null,
            "object_position": null,
            "order": null,
            "overflow": null,
            "overflow_x": null,
            "overflow_y": null,
            "padding": null,
            "right": null,
            "top": null,
            "visibility": null,
            "width": null
          }
        },
        "0650e44f27c8474f8328e0c52b464c40": {
          "model_module": "@jupyter-widgets/controls",
          "model_name": "DescriptionStyleModel",
          "model_module_version": "1.5.0",
          "state": {
            "_model_module": "@jupyter-widgets/controls",
            "_model_module_version": "1.5.0",
            "_model_name": "DescriptionStyleModel",
            "_view_count": null,
            "_view_module": "@jupyter-widgets/base",
            "_view_module_version": "1.2.0",
            "_view_name": "StyleView",
            "description_width": ""
          }
        },
        "898274bb046641619ff340df4077e0dc": {
          "model_module": "@jupyter-widgets/base",
          "model_name": "LayoutModel",
          "model_module_version": "1.2.0",
          "state": {
            "_model_module": "@jupyter-widgets/base",
            "_model_module_version": "1.2.0",
            "_model_name": "LayoutModel",
            "_view_count": null,
            "_view_module": "@jupyter-widgets/base",
            "_view_module_version": "1.2.0",
            "_view_name": "LayoutView",
            "align_content": null,
            "align_items": null,
            "align_self": null,
            "border": null,
            "bottom": null,
            "display": null,
            "flex": null,
            "flex_flow": null,
            "grid_area": null,
            "grid_auto_columns": null,
            "grid_auto_flow": null,
            "grid_auto_rows": null,
            "grid_column": null,
            "grid_gap": null,
            "grid_row": null,
            "grid_template_areas": null,
            "grid_template_columns": null,
            "grid_template_rows": null,
            "height": null,
            "justify_content": null,
            "justify_items": null,
            "left": null,
            "margin": null,
            "max_height": null,
            "max_width": null,
            "min_height": null,
            "min_width": null,
            "object_fit": null,
            "object_position": null,
            "order": null,
            "overflow": null,
            "overflow_x": null,
            "overflow_y": null,
            "padding": null,
            "right": null,
            "top": null,
            "visibility": null,
            "width": null
          }
        },
        "e8b26f195bae4c8d84b60077712d05c6": {
          "model_module": "@jupyter-widgets/controls",
          "model_name": "ProgressStyleModel",
          "model_module_version": "1.5.0",
          "state": {
            "_model_module": "@jupyter-widgets/controls",
            "_model_module_version": "1.5.0",
            "_model_name": "ProgressStyleModel",
            "_view_count": null,
            "_view_module": "@jupyter-widgets/base",
            "_view_module_version": "1.2.0",
            "_view_name": "StyleView",
            "bar_color": null,
            "description_width": ""
          }
        },
        "5514a37fdd5a4928bb22071a93865e1c": {
          "model_module": "@jupyter-widgets/base",
          "model_name": "LayoutModel",
          "model_module_version": "1.2.0",
          "state": {
            "_model_module": "@jupyter-widgets/base",
            "_model_module_version": "1.2.0",
            "_model_name": "LayoutModel",
            "_view_count": null,
            "_view_module": "@jupyter-widgets/base",
            "_view_module_version": "1.2.0",
            "_view_name": "LayoutView",
            "align_content": null,
            "align_items": null,
            "align_self": null,
            "border": null,
            "bottom": null,
            "display": null,
            "flex": null,
            "flex_flow": null,
            "grid_area": null,
            "grid_auto_columns": null,
            "grid_auto_flow": null,
            "grid_auto_rows": null,
            "grid_column": null,
            "grid_gap": null,
            "grid_row": null,
            "grid_template_areas": null,
            "grid_template_columns": null,
            "grid_template_rows": null,
            "height": null,
            "justify_content": null,
            "justify_items": null,
            "left": null,
            "margin": null,
            "max_height": null,
            "max_width": null,
            "min_height": null,
            "min_width": null,
            "object_fit": null,
            "object_position": null,
            "order": null,
            "overflow": null,
            "overflow_x": null,
            "overflow_y": null,
            "padding": null,
            "right": null,
            "top": null,
            "visibility": null,
            "width": null
          }
        },
        "a8d3ad2018b843e293a87d2feea59f30": {
          "model_module": "@jupyter-widgets/controls",
          "model_name": "DescriptionStyleModel",
          "model_module_version": "1.5.0",
          "state": {
            "_model_module": "@jupyter-widgets/controls",
            "_model_module_version": "1.5.0",
            "_model_name": "DescriptionStyleModel",
            "_view_count": null,
            "_view_module": "@jupyter-widgets/base",
            "_view_module_version": "1.2.0",
            "_view_name": "StyleView",
            "description_width": ""
          }
        }
      }
    }
  },
  "cells": [
    {
      "cell_type": "markdown",
      "metadata": {
        "id": "view-in-github",
        "colab_type": "text"
      },
      "source": [
        "<a href=\"https://colab.research.google.com/github/bala1802/ERA/blob/main/Session-10/Session10.ipynb\" target=\"_parent\"><img src=\"https://colab.research.google.com/assets/colab-badge.svg\" alt=\"Open In Colab\"/></a>"
      ]
    },
    {
      "cell_type": "code",
      "source": [
        "from google.colab import drive\n",
        "drive.mount('/content/drive')"
      ],
      "metadata": {
        "colab": {
          "base_uri": "https://localhost:8080/"
        },
        "id": "LiJL1OgTUAZP",
        "outputId": "731341d5-d72f-4946-a813-5a5cef82b220"
      },
      "execution_count": 1,
      "outputs": [
        {
          "output_type": "stream",
          "name": "stdout",
          "text": [
            "Drive already mounted at /content/drive; to attempt to forcibly remount, call drive.mount(\"/content/drive\", force_remount=True).\n"
          ]
        }
      ]
    },
    {
      "cell_type": "code",
      "source": [
        "cd /content/drive/MyDrive/Session10/modular"
      ],
      "metadata": {
        "colab": {
          "base_uri": "https://localhost:8080/"
        },
        "id": "FUEpYUAVUExz",
        "outputId": "a7dfdd60-4558-416f-fae8-38f9dbf91dd4"
      },
      "execution_count": 2,
      "outputs": [
        {
          "output_type": "stream",
          "name": "stdout",
          "text": [
            "/content/drive/MyDrive/Session10/modular\n"
          ]
        }
      ]
    },
    {
      "cell_type": "markdown",
      "source": [
        "# Clone Modular"
      ],
      "metadata": {
        "id": "wDxntC6SYhgW"
      }
    },
    {
      "cell_type": "code",
      "source": [
        "!git clone \"https://github.com/bala1802/modular.git\""
      ],
      "metadata": {
        "id": "8dvZ59pBUWnO"
      },
      "execution_count": 17,
      "outputs": []
    },
    {
      "cell_type": "code",
      "source": [
        "!git status"
      ],
      "metadata": {
        "colab": {
          "base_uri": "https://localhost:8080/"
        },
        "id": "KYVB1JtMrKnC",
        "outputId": "c6aef29f-57a4-4647-e729-a0b4fb14e829"
      },
      "execution_count": 4,
      "outputs": [
        {
          "output_type": "stream",
          "name": "stdout",
          "text": [
            "On branch main\n",
            "Your branch is up to date with 'origin/main'.\n",
            "\n",
            "nothing to commit, working tree clean\n"
          ]
        }
      ]
    },
    {
      "cell_type": "code",
      "source": [
        "cd /content/drive/MyDrive/Session10"
      ],
      "metadata": {
        "colab": {
          "base_uri": "https://localhost:8080/"
        },
        "id": "tSdS7oyKVQDs",
        "outputId": "41caf59d-18e6-4298-fff3-f26ace3e3f8a"
      },
      "execution_count": 5,
      "outputs": [
        {
          "output_type": "stream",
          "name": "stdout",
          "text": [
            "/content/drive/MyDrive/Session10\n"
          ]
        }
      ]
    },
    {
      "cell_type": "markdown",
      "source": [
        "# Libraries"
      ],
      "metadata": {
        "id": "LozWDn42Uvvv"
      }
    },
    {
      "cell_type": "code",
      "source": [
        "!pip install -r /content/drive/MyDrive/Session10/modular/requirements.txt -q"
      ],
      "metadata": {
        "id": "nmFOtNtDUaPB"
      },
      "execution_count": 6,
      "outputs": []
    },
    {
      "cell_type": "code",
      "source": [
        "import torch\n",
        "from torchsummary import summary"
      ],
      "metadata": {
        "id": "EwkvhJJjUhOw"
      },
      "execution_count": 7,
      "outputs": []
    },
    {
      "cell_type": "markdown",
      "source": [
        "# CUDA"
      ],
      "metadata": {
        "id": "ij6GEj8XU8FC"
      }
    },
    {
      "cell_type": "code",
      "source": [
        "use_cuda = torch.cuda.is_available()\n",
        "device = torch.device(\"cuda\" if use_cuda else \"cpu\")\n",
        "print(device)"
      ],
      "metadata": {
        "colab": {
          "base_uri": "https://localhost:8080/"
        },
        "id": "XuUlfhGoU9zj",
        "outputId": "6e38f82b-026b-4af5-8815-ce571393dfb6"
      },
      "execution_count": 8,
      "outputs": [
        {
          "output_type": "stream",
          "name": "stdout",
          "text": [
            "cuda\n"
          ]
        }
      ]
    },
    {
      "cell_type": "markdown",
      "source": [
        "# Model Construction"
      ],
      "metadata": {
        "id": "nSohDDGEVERe"
      }
    },
    {
      "cell_type": "code",
      "source": [
        "from modular import custom_resnet\n",
        "\n",
        "model_01 = custom_resnet.CustomResNet01().to(device)\n",
        "summary(model_01, input_size=(3, 32, 32))"
      ],
      "metadata": {
        "colab": {
          "base_uri": "https://localhost:8080/"
        },
        "id": "abKACjRVU_6R",
        "outputId": "3148a9ea-361b-4bde-e2cd-ee8d83ea28d2"
      },
      "execution_count": 9,
      "outputs": [
        {
          "output_type": "stream",
          "name": "stdout",
          "text": [
            "----------------------------------------------------------------\n",
            "        Layer (type)               Output Shape         Param #\n",
            "================================================================\n",
            "            Conv2d-1           [-1, 64, 32, 32]           1,728\n",
            "       BatchNorm2d-2           [-1, 64, 32, 32]             128\n",
            "              ReLU-3           [-1, 64, 32, 32]               0\n",
            "            Conv2d-4          [-1, 128, 34, 34]           8,192\n",
            "       BatchNorm2d-5          [-1, 128, 34, 34]             256\n",
            "              ReLU-6          [-1, 128, 34, 34]               0\n",
            "         MaxPool2d-7          [-1, 128, 17, 17]               0\n",
            "            Conv2d-8          [-1, 128, 17, 17]         147,456\n",
            "       BatchNorm2d-9          [-1, 128, 17, 17]             256\n",
            "             ReLU-10          [-1, 128, 17, 17]               0\n",
            "           Conv2d-11          [-1, 128, 17, 17]         147,456\n",
            "      BatchNorm2d-12          [-1, 128, 17, 17]             256\n",
            "             ReLU-13          [-1, 128, 17, 17]               0\n",
            "           Conv2d-14          [-1, 256, 19, 19]          32,768\n",
            "      BatchNorm2d-15          [-1, 256, 19, 19]             512\n",
            "             ReLU-16          [-1, 256, 19, 19]               0\n",
            "        MaxPool2d-17            [-1, 256, 9, 9]               0\n",
            "           Conv2d-18          [-1, 512, 11, 11]         131,072\n",
            "      BatchNorm2d-19          [-1, 512, 11, 11]           1,024\n",
            "             ReLU-20          [-1, 512, 11, 11]               0\n",
            "        MaxPool2d-21            [-1, 512, 5, 5]               0\n",
            "           Conv2d-22            [-1, 512, 5, 5]       2,359,296\n",
            "      BatchNorm2d-23            [-1, 512, 5, 5]           1,024\n",
            "             ReLU-24            [-1, 512, 5, 5]               0\n",
            "           Conv2d-25            [-1, 512, 5, 5]       2,359,296\n",
            "      BatchNorm2d-26            [-1, 512, 5, 5]           1,024\n",
            "             ReLU-27            [-1, 512, 5, 5]               0\n",
            "AdaptiveAvgPool2d-28            [-1, 512, 1, 1]               0\n",
            "           Linear-29                   [-1, 10]           5,130\n",
            "================================================================\n",
            "Total params: 5,196,874\n",
            "Trainable params: 5,196,874\n",
            "Non-trainable params: 0\n",
            "----------------------------------------------------------------\n",
            "Input size (MB): 0.01\n",
            "Forward/backward pass size (MB): 11.24\n",
            "Params size (MB): 19.82\n",
            "Estimated Total Size (MB): 31.08\n",
            "----------------------------------------------------------------\n"
          ]
        }
      ]
    },
    {
      "cell_type": "markdown",
      "source": [
        "# Data Utils"
      ],
      "metadata": {
        "id": "rLp0_ml7V4Oa"
      }
    },
    {
      "cell_type": "code",
      "source": [
        "from modular import datautils"
      ],
      "metadata": {
        "colab": {
          "base_uri": "https://localhost:8080/"
        },
        "id": "lFOzH0pBVjQn",
        "outputId": "020f8479-3fd6-4100-89ab-06ce15b87cd2"
      },
      "execution_count": 10,
      "outputs": [
        {
          "output_type": "stream",
          "name": "stdout",
          "text": [
            "CUDA Available? True\n"
          ]
        }
      ]
    },
    {
      "cell_type": "code",
      "source": [
        "train_data = datautils.load_data(mode=\"train\",\n",
        "                                 transform=datautils.get_transforms(mode=\"train\"))\n",
        "test_data = datautils.load_data(mode=\"test\",\n",
        "                                transform=datautils.get_transforms(mode=\"test\"))\n",
        "\n",
        "len(train_data), len(test_data)"
      ],
      "metadata": {
        "colab": {
          "base_uri": "https://localhost:8080/"
        },
        "id": "ajIwdQdWWE5c",
        "outputId": "bb5533db-e32a-4b62-f84e-780acf6ff569"
      },
      "execution_count": 11,
      "outputs": [
        {
          "output_type": "stream",
          "name": "stdout",
          "text": [
            "Files already downloaded and verified\n",
            "Files already downloaded and verified\n"
          ]
        },
        {
          "output_type": "execute_result",
          "data": {
            "text/plain": [
              "(50000, 10000)"
            ]
          },
          "metadata": {},
          "execution_count": 11
        }
      ]
    },
    {
      "cell_type": "code",
      "source": [
        "train_loader = datautils.construct_loader(data=train_data)\n",
        "test_loader = datautils.construct_loader(data=test_data)\n",
        "\n",
        "len(train_loader), len(test_loader)"
      ],
      "metadata": {
        "colab": {
          "base_uri": "https://localhost:8080/"
        },
        "id": "dj7Cs7mHWNT2",
        "outputId": "33a9e812-67ee-4e5f-8fa5-c735b55e9a3c"
      },
      "execution_count": 12,
      "outputs": [
        {
          "output_type": "execute_result",
          "data": {
            "text/plain": [
              "(98, 20)"
            ]
          },
          "metadata": {},
          "execution_count": 12
        }
      ]
    },
    {
      "cell_type": "markdown",
      "source": [
        "# Model Utils"
      ],
      "metadata": {
        "id": "AS8RURlyZ6i-"
      }
    },
    {
      "cell_type": "code",
      "source": [
        "from modular import modelutils\n",
        "\n",
        "# optimizer = modelutils.construct_optimizer(model=model_01, learning_rate=0.01, weight_decay=0.9)\n",
        "# optimizer = modelutils.construct_optimizer(model=model_01, learning_rate=0.001, weight_decay=0.9)\n",
        "# optimizer = modelutils.construct_optimizer(model=model_01, learning_rate=0.03, weight_decay=1e-4)\n",
        "optimizer = modelutils.construct_optimizer(model=model_01)\n",
        "criterion = modelutils.construct_cross_entropy_loss()"
      ],
      "metadata": {
        "id": "5AQdjkl6Z17W",
        "colab": {
          "base_uri": "https://localhost:8080/"
        },
        "outputId": "15e25ca6-ac1f-4f8c-c9ba-9e1f0c60d8b6"
      },
      "execution_count": 13,
      "outputs": [
        {
          "output_type": "stream",
          "name": "stdout",
          "text": [
            "CUDA Available? True\n"
          ]
        },
        {
          "output_type": "stream",
          "name": "stderr",
          "text": [
            "/usr/local/lib/python3.10/dist-packages/torch_lr_finder/lr_finder.py:5: TqdmExperimentalWarning: Using `tqdm.autonotebook.tqdm` in notebook mode. Use `tqdm.tqdm` instead to force console mode (e.g. in jupyter console)\n",
            "  from tqdm.autonotebook import tqdm\n"
          ]
        }
      ]
    },
    {
      "cell_type": "markdown",
      "source": [
        "## LR Finder"
      ],
      "metadata": {
        "id": "guS2Cxx-eD_V"
      }
    },
    {
      "cell_type": "code",
      "source": [
        "lr_finder = modelutils.construct_LR_finder(model=model_01,\n",
        "                               optimizer=optimizer,\n",
        "                               criterion=criterion,\n",
        "                               device=modelutils.get_device(),\n",
        "                               dataloader=train_loader,\n",
        "                               end_learning_rate=10,\n",
        "                               number_of_iterations=200,\n",
        "                               step_mode=\"exp\")\n",
        "lr_finder.plot()\n",
        "lr_finder.reset()"
      ],
      "metadata": {
        "colab": {
          "base_uri": "https://localhost:8080/",
          "height": 557,
          "referenced_widgets": [
            "f3078fe52820427e959290ce3fc68532",
            "e8a2f295c5e948adb7b0038490db0e3f",
            "8c9caf6fac4a4de9839f4639c0d25a78",
            "ee650bcb099349d2bfcb33dd3c7db744",
            "b265bc6a98024727957ee3239326ced1",
            "4896375764774746a4f09a1463f60d17",
            "0650e44f27c8474f8328e0c52b464c40",
            "898274bb046641619ff340df4077e0dc",
            "e8b26f195bae4c8d84b60077712d05c6",
            "5514a37fdd5a4928bb22071a93865e1c",
            "a8d3ad2018b843e293a87d2feea59f30"
          ]
        },
        "id": "9p1Sbmr0eCFc",
        "outputId": "5bd4ace6-af31-4384-c32b-e2ee2d0a3c74"
      },
      "execution_count": 14,
      "outputs": [
        {
          "output_type": "display_data",
          "data": {
            "text/plain": [
              "  0%|          | 0/200 [00:00<?, ?it/s]"
            ],
            "application/vnd.jupyter.widget-view+json": {
              "version_major": 2,
              "version_minor": 0,
              "model_id": "f3078fe52820427e959290ce3fc68532"
            }
          },
          "metadata": {}
        },
        {
          "output_type": "stream",
          "name": "stdout",
          "text": [
            "Stopping early, the loss has diverged\n",
            "Learning rate search finished. See the graph with {finder_name}.plot()\n",
            "LR suggestion: steepest gradient\n",
            "Suggested LR: 4.93E-02\n"
          ]
        },
        {
          "output_type": "display_data",
          "data": {
            "text/plain": [
              "<Figure size 640x480 with 1 Axes>"
            ],
            "image/png": "[encoded data removed]"
          },
          "metadata": {}
        }
      ]
    },
    {
      "cell_type": "markdown",
      "source": [
        "## LR Scheduler"
      ],
      "metadata": {
        "id": "tvK9AQc5ex4K"
      }
    },
    {
      "cell_type": "code",
      "source": [
        "EPOCHS=24\n",
        "\n",
        "scheduler = modelutils.construct_scheduler(optimizer=optimizer,\n",
        "                    data_loader=train_loader,\n",
        "                    epochs=EPOCHS,\n",
        "                    maximum_learning_rate=4.93E-02)"
      ],
      "metadata": {
        "id": "1UuLf_n_eKY3"
      },
      "execution_count": 15,
      "outputs": []
    },
    {
      "cell_type": "markdown",
      "source": [
        "# Model Training and Testing"
      ],
      "metadata": {
        "id": "0KwYjH1Vfpq8"
      }
    },
    {
      "cell_type": "code",
      "source": [
        "from modular import train\n",
        "from modular import test\n",
        "\n",
        "for epoch in range(EPOCHS):\n",
        "  print(\"EPOCH: \", epoch)\n",
        "  train.train(model=model_01, device=modelutils.get_device(), train_loader=train_loader,\n",
        "        optimizer=optimizer, scheduler=scheduler, epoch=epoch, loss_function=criterion)\n",
        "  test.test(model=model_01, device=modelutils.get_device(), test_loader=test_loader, loss_function=criterion)"
      ],
      "metadata": {
        "colab": {
          "base_uri": "https://localhost:8080/"
        },
        "id": "5kqiZGHuffcL",
        "outputId": "1c8d5367-8ac7-42d4-ff57-aa955b89d764"
      },
      "execution_count": 16,
      "outputs": [
        {
          "output_type": "stream",
          "name": "stdout",
          "text": [
            "EPOCH:  0\n"
          ]
        },
        {
          "output_type": "stream",
          "name": "stderr",
          "text": [
            "\r  0%|          | 0/98 [00:00<?, ?it/s]/usr/local/lib/python3.10/dist-packages/torch/optim/lr_scheduler.py:152: UserWarning: The epoch parameter in `scheduler.step()` was not necessary and is being deprecated where possible. Please use `scheduler.step()` to step the scheduler. During the deprecation, if epoch is different from None, the closed form is used instead of the new chainable form, where available. Please open an issue if you are unable to replicate your use case: https://github.com/pytorch/pytorch/issues/new/choose.\n",
            "  warnings.warn(EPOCH_DEPRECATION_WARNING, UserWarning)\n",
            "Loss=1.0182058811187744 Batch_id=97 Accuracy=50.53: 100%|██████████| 98/98 [00:37<00:00,  2.63it/s]\n"
          ]
        },
        {
          "output_type": "stream",
          "name": "stdout",
          "text": [
            "\n",
            "Test set: Average loss: 0.0023, Accuracy: 5885/10000 (58.85%)\n",
            "\n",
            "EPOCH:  1\n"
          ]
        },
        {
          "output_type": "stream",
          "name": "stderr",
          "text": [
            "Loss=0.8956795930862427 Batch_id=97 Accuracy=65.53: 100%|██████████| 98/98 [00:36<00:00,  2.69it/s]\n"
          ]
        },
        {
          "output_type": "stream",
          "name": "stdout",
          "text": [
            "\n",
            "Test set: Average loss: 0.0018, Accuracy: 6818/10000 (68.18%)\n",
            "\n",
            "EPOCH:  2\n"
          ]
        },
        {
          "output_type": "stream",
          "name": "stderr",
          "text": [
            "Loss=0.8191382884979248 Batch_id=97 Accuracy=71.30: 100%|██████████| 98/98 [00:37<00:00,  2.63it/s]\n"
          ]
        },
        {
          "output_type": "stream",
          "name": "stdout",
          "text": [
            "\n",
            "Test set: Average loss: 0.0021, Accuracy: 6437/10000 (64.37%)\n",
            "\n",
            "EPOCH:  3\n"
          ]
        },
        {
          "output_type": "stream",
          "name": "stderr",
          "text": [
            "Loss=0.6446259617805481 Batch_id=97 Accuracy=74.85: 100%|██████████| 98/98 [00:37<00:00,  2.60it/s]\n"
          ]
        },
        {
          "output_type": "stream",
          "name": "stdout",
          "text": [
            "\n",
            "Test set: Average loss: 0.0015, Accuracy: 7323/10000 (73.23%)\n",
            "\n",
            "EPOCH:  4\n"
          ]
        },
        {
          "output_type": "stream",
          "name": "stderr",
          "text": [
            "Loss=0.5404285192489624 Batch_id=97 Accuracy=78.21: 100%|██████████| 98/98 [00:37<00:00,  2.64it/s]\n"
          ]
        },
        {
          "output_type": "stream",
          "name": "stdout",
          "text": [
            "\n",
            "Test set: Average loss: 0.0018, Accuracy: 6888/10000 (68.88%)\n",
            "\n",
            "EPOCH:  5\n"
          ]
        },
        {
          "output_type": "stream",
          "name": "stderr",
          "text": [
            "Loss=0.5559817552566528 Batch_id=97 Accuracy=79.72: 100%|██████████| 98/98 [00:37<00:00,  2.61it/s]\n"
          ]
        },
        {
          "output_type": "stream",
          "name": "stdout",
          "text": [
            "\n",
            "Test set: Average loss: 0.0015, Accuracy: 7308/10000 (73.08%)\n",
            "\n",
            "EPOCH:  6\n"
          ]
        },
        {
          "output_type": "stream",
          "name": "stderr",
          "text": [
            "Loss=0.5218470096588135 Batch_id=97 Accuracy=81.05: 100%|██████████| 98/98 [00:37<00:00,  2.58it/s]\n"
          ]
        },
        {
          "output_type": "stream",
          "name": "stdout",
          "text": [
            "\n",
            "Test set: Average loss: 0.0015, Accuracy: 7436/10000 (74.36%)\n",
            "\n",
            "EPOCH:  7\n"
          ]
        },
        {
          "output_type": "stream",
          "name": "stderr",
          "text": [
            "Loss=0.5276254415512085 Batch_id=97 Accuracy=82.19: 100%|██████████| 98/98 [00:38<00:00,  2.56it/s]\n"
          ]
        },
        {
          "output_type": "stream",
          "name": "stdout",
          "text": [
            "\n",
            "Test set: Average loss: 0.0013, Accuracy: 7873/10000 (78.73%)\n",
            "\n",
            "EPOCH:  8\n"
          ]
        },
        {
          "output_type": "stream",
          "name": "stderr",
          "text": [
            "Loss=0.483659029006958 Batch_id=97 Accuracy=83.53: 100%|██████████| 98/98 [00:37<00:00,  2.62it/s]\n"
          ]
        },
        {
          "output_type": "stream",
          "name": "stdout",
          "text": [
            "\n",
            "Test set: Average loss: 0.0013, Accuracy: 7762/10000 (77.62%)\n",
            "\n",
            "EPOCH:  9\n"
          ]
        },
        {
          "output_type": "stream",
          "name": "stderr",
          "text": [
            "Loss=0.48053401708602905 Batch_id=97 Accuracy=84.64: 100%|██████████| 98/98 [00:38<00:00,  2.58it/s]\n"
          ]
        },
        {
          "output_type": "stream",
          "name": "stdout",
          "text": [
            "\n",
            "Test set: Average loss: 0.0010, Accuracy: 8212/10000 (82.12%)\n",
            "\n",
            "EPOCH:  10\n"
          ]
        },
        {
          "output_type": "stream",
          "name": "stderr",
          "text": [
            "Loss=0.4670870304107666 Batch_id=97 Accuracy=85.26: 100%|██████████| 98/98 [00:37<00:00,  2.60it/s]\n"
          ]
        },
        {
          "output_type": "stream",
          "name": "stdout",
          "text": [
            "\n",
            "Test set: Average loss: 0.0011, Accuracy: 8130/10000 (81.30%)\n",
            "\n",
            "EPOCH:  11\n"
          ]
        },
        {
          "output_type": "stream",
          "name": "stderr",
          "text": [
            "Loss=0.3805040419101715 Batch_id=97 Accuracy=86.33: 100%|██████████| 98/98 [00:37<00:00,  2.62it/s]\n"
          ]
        },
        {
          "output_type": "stream",
          "name": "stdout",
          "text": [
            "\n",
            "Test set: Average loss: 0.0014, Accuracy: 7737/10000 (77.37%)\n",
            "\n",
            "EPOCH:  12\n"
          ]
        },
        {
          "output_type": "stream",
          "name": "stderr",
          "text": [
            "Loss=0.31937822699546814 Batch_id=97 Accuracy=86.92: 100%|██████████| 98/98 [00:37<00:00,  2.59it/s]\n"
          ]
        },
        {
          "output_type": "stream",
          "name": "stdout",
          "text": [
            "\n",
            "Test set: Average loss: 0.0012, Accuracy: 7963/10000 (79.63%)\n",
            "\n",
            "EPOCH:  13\n"
          ]
        },
        {
          "output_type": "stream",
          "name": "stderr",
          "text": [
            "Loss=0.43280357122421265 Batch_id=97 Accuracy=87.15: 100%|██████████| 98/98 [00:37<00:00,  2.60it/s]\n"
          ]
        },
        {
          "output_type": "stream",
          "name": "stdout",
          "text": [
            "\n",
            "Test set: Average loss: 0.0013, Accuracy: 7850/10000 (78.50%)\n",
            "\n",
            "EPOCH:  14\n"
          ]
        },
        {
          "output_type": "stream",
          "name": "stderr",
          "text": [
            "Loss=0.3853107988834381 Batch_id=97 Accuracy=87.89: 100%|██████████| 98/98 [00:37<00:00,  2.65it/s]\n"
          ]
        },
        {
          "output_type": "stream",
          "name": "stdout",
          "text": [
            "\n",
            "Test set: Average loss: 0.0012, Accuracy: 8073/10000 (80.73%)\n",
            "\n",
            "EPOCH:  15\n"
          ]
        },
        {
          "output_type": "stream",
          "name": "stderr",
          "text": [
            "Loss=0.30118605494499207 Batch_id=97 Accuracy=88.56: 100%|██████████| 98/98 [00:37<00:00,  2.59it/s]\n"
          ]
        },
        {
          "output_type": "stream",
          "name": "stdout",
          "text": [
            "\n",
            "Test set: Average loss: 0.0009, Accuracy: 8424/10000 (84.24%)\n",
            "\n",
            "EPOCH:  16\n"
          ]
        },
        {
          "output_type": "stream",
          "name": "stderr",
          "text": [
            "Loss=0.25412729382514954 Batch_id=97 Accuracy=89.11: 100%|██████████| 98/98 [00:37<00:00,  2.59it/s]\n"
          ]
        },
        {
          "output_type": "stream",
          "name": "stdout",
          "text": [
            "\n",
            "Test set: Average loss: 0.0012, Accuracy: 8118/10000 (81.18%)\n",
            "\n",
            "EPOCH:  17\n"
          ]
        },
        {
          "output_type": "stream",
          "name": "stderr",
          "text": [
            "Loss=0.302532434463501 Batch_id=97 Accuracy=89.44: 100%|██████████| 98/98 [00:37<00:00,  2.62it/s]\n"
          ]
        },
        {
          "output_type": "stream",
          "name": "stdout",
          "text": [
            "\n",
            "Test set: Average loss: 0.0009, Accuracy: 8546/10000 (85.46%)\n",
            "\n",
            "EPOCH:  18\n"
          ]
        },
        {
          "output_type": "stream",
          "name": "stderr",
          "text": [
            "Loss=0.35534027218818665 Batch_id=97 Accuracy=89.88: 100%|██████████| 98/98 [00:36<00:00,  2.69it/s]\n"
          ]
        },
        {
          "output_type": "stream",
          "name": "stdout",
          "text": [
            "\n",
            "Test set: Average loss: 0.0015, Accuracy: 7608/10000 (76.08%)\n",
            "\n",
            "EPOCH:  19\n"
          ]
        },
        {
          "output_type": "stream",
          "name": "stderr",
          "text": [
            "Loss=0.2566632330417633 Batch_id=97 Accuracy=90.36: 100%|██████████| 98/98 [00:37<00:00,  2.58it/s]\n"
          ]
        },
        {
          "output_type": "stream",
          "name": "stdout",
          "text": [
            "\n",
            "Test set: Average loss: 0.0013, Accuracy: 8019/10000 (80.19%)\n",
            "\n",
            "EPOCH:  20\n"
          ]
        },
        {
          "output_type": "stream",
          "name": "stderr",
          "text": [
            "Loss=0.3255254924297333 Batch_id=97 Accuracy=90.32: 100%|██████████| 98/98 [00:37<00:00,  2.60it/s]\n"
          ]
        },
        {
          "output_type": "stream",
          "name": "stdout",
          "text": [
            "\n",
            "Test set: Average loss: 0.0023, Accuracy: 7038/10000 (70.38%)\n",
            "\n",
            "EPOCH:  21\n"
          ]
        },
        {
          "output_type": "stream",
          "name": "stderr",
          "text": [
            "Loss=0.3220394551753998 Batch_id=97 Accuracy=90.79: 100%|██████████| 98/98 [00:37<00:00,  2.62it/s]\n"
          ]
        },
        {
          "output_type": "stream",
          "name": "stdout",
          "text": [
            "\n",
            "Test set: Average loss: 0.0011, Accuracy: 8244/10000 (82.44%)\n",
            "\n",
            "EPOCH:  22\n"
          ]
        },
        {
          "output_type": "stream",
          "name": "stderr",
          "text": [
            "Loss=0.24948544800281525 Batch_id=97 Accuracy=91.12: 100%|██████████| 98/98 [00:38<00:00,  2.56it/s]\n"
          ]
        },
        {
          "output_type": "stream",
          "name": "stdout",
          "text": [
            "\n",
            "Test set: Average loss: 0.0010, Accuracy: 8325/10000 (83.25%)\n",
            "\n",
            "EPOCH:  23\n"
          ]
        },
        {
          "output_type": "stream",
          "name": "stderr",
          "text": [
            "Loss=0.28432875871658325 Batch_id=97 Accuracy=91.32: 100%|██████████| 98/98 [00:37<00:00,  2.60it/s]\n"
          ]
        },
        {
          "output_type": "stream",
          "name": "stdout",
          "text": [
            "\n",
            "Test set: Average loss: 0.0015, Accuracy: 7664/10000 (76.64%)\n",
            "\n"
          ]
        }
      ]
    },
    {
      "cell_type": "code",
      "source": [],
      "metadata": {
        "id": "g6BY7M2g1sdU"
      },
      "execution_count": null,
      "outputs": []
    }
  ]
}