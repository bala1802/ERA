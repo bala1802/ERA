{
  "nbformat": 4,
  "nbformat_minor": 0,
  "metadata": {
    "colab": {
      "provenance": [],
      "gpuType": "T4",
      "mount_file_id": "1w_ccaaCCSMx4dNuRIP2JRK6_O5cNSOB8",
      "authorship_tag": "ABX9TyMwW6+iYHKuffm8d0CtnxRh",
      "include_colab_link": true
    },
    "kernelspec": {
      "name": "python3",
      "display_name": "Python 3"
    },
    "language_info": {
      "name": "python"
    },
    "accelerator": "GPU",
    "widgets": {
      "application/vnd.jupyter.widget-state+json": {
        "7bfd08e664db428d860c0853011f1b44": {
          "model_module": "@jupyter-widgets/controls",
          "model_name": "HBoxModel",
          "model_module_version": "1.5.0",
          "state": {
            "_dom_classes": [],
            "_model_module": "@jupyter-widgets/controls",
            "_model_module_version": "1.5.0",
            "_model_name": "HBoxModel",
            "_view_count": null,
            "_view_module": "@jupyter-widgets/controls",
            "_view_module_version": "1.5.0",
            "_view_name": "HBoxView",
            "box_style": "",
            "children": [
              "IPY_MODEL_fa0d4e5a56da4b5dbcf50c29c363dced",
              "IPY_MODEL_ee5e2861cb90427bb82527920f243ff4",
              "IPY_MODEL_6c539a9cae4b4ec88b09aac5643bf5cf"
            ],
            "layout": "IPY_MODEL_10c2fdb657db4c9fbcf2707bc9e62666"
          }
        },
        "fa0d4e5a56da4b5dbcf50c29c363dced": {
          "model_module": "@jupyter-widgets/controls",
          "model_name": "HTMLModel",
          "model_module_version": "1.5.0",
          "state": {
            "_dom_classes": [],
            "_model_module": "@jupyter-widgets/controls",
            "_model_module_version": "1.5.0",
            "_model_name": "HTMLModel",
            "_view_count": null,
            "_view_module": "@jupyter-widgets/controls",
            "_view_module_version": "1.5.0",
            "_view_name": "HTMLView",
            "description": "",
            "description_tooltip": null,
            "layout": "IPY_MODEL_a0658c25076f49bc8e2ede8c144273ec",
            "placeholder": "​",
            "style": "IPY_MODEL_62b8764c459e480cb0f846b14002166c",
            "value": " 64%"
          }
        },
        "ee5e2861cb90427bb82527920f243ff4": {
          "model_module": "@jupyter-widgets/controls",
          "model_name": "FloatProgressModel",
          "model_module_version": "1.5.0",
          "state": {
            "_dom_classes": [],
            "_model_module": "@jupyter-widgets/controls",
            "_model_module_version": "1.5.0",
            "_model_name": "FloatProgressModel",
            "_view_count": null,
            "_view_module": "@jupyter-widgets/controls",
            "_view_module_version": "1.5.0",
            "_view_name": "ProgressView",
            "bar_style": "danger",
            "description": "",
            "description_tooltip": null,
            "layout": "IPY_MODEL_e21fa0eb1830437b91e7bf98eb6916dd",
            "max": 200,
            "min": 0,
            "orientation": "horizontal",
            "style": "IPY_MODEL_23db76d91cfb47ba9537bbca643a6393",
            "value": 128
          }
        },
        "6c539a9cae4b4ec88b09aac5643bf5cf": {
          "model_module": "@jupyter-widgets/controls",
          "model_name": "HTMLModel",
          "model_module_version": "1.5.0",
          "state": {
            "_dom_classes": [],
            "_model_module": "@jupyter-widgets/controls",
            "_model_module_version": "1.5.0",
            "_model_name": "HTMLModel",
            "_view_count": null,
            "_view_module": "@jupyter-widgets/controls",
            "_view_module_version": "1.5.0",
            "_view_name": "HTMLView",
            "description": "",
            "description_tooltip": null,
            "layout": "IPY_MODEL_4e50faf55c214fecb655c20264b29dda",
            "placeholder": "​",
            "style": "IPY_MODEL_ba0dd76616664ac29a4735d60b73f7db",
            "value": " 128/200 [00:44&lt;00:24,  2.97it/s]"
          }
        },
        "10c2fdb657db4c9fbcf2707bc9e62666": {
          "model_module": "@jupyter-widgets/base",
          "model_name": "LayoutModel",
          "model_module_version": "1.2.0",
          "state": {
            "_model_module": "@jupyter-widgets/base",
            "_model_module_version": "1.2.0",
            "_model_name": "LayoutModel",
            "_view_count": null,
            "_view_module": "@jupyter-widgets/base",
            "_view_module_version": "1.2.0",
            "_view_name": "LayoutView",
            "align_content": null,
            "align_items": null,
            "align_self": null,
            "border": null,
            "bottom": null,
            "display": null,
            "flex": null,
            "flex_flow": null,
            "grid_area": null,
            "grid_auto_columns": null,
            "grid_auto_flow": null,
            "grid_auto_rows": null,
            "grid_column": null,
            "grid_gap": null,
            "grid_row": null,
            "grid_template_areas": null,
            "grid_template_columns": null,
            "grid_template_rows": null,
            "height": null,
            "justify_content": null,
            "justify_items": null,
            "left": null,
            "margin": null,
            "max_height": null,
            "max_width": null,
            "min_height": null,
            "min_width": null,
            "object_fit": null,
            "object_position": null,
            "order": null,
            "overflow": null,
            "overflow_x": null,
            "overflow_y": null,
            "padding": null,
            "right": null,
            "top": null,
            "visibility": null,
            "width": null
          }
        },
        "a0658c25076f49bc8e2ede8c144273ec": {
          "model_module": "@jupyter-widgets/base",
          "model_name": "LayoutModel",
          "model_module_version": "1.2.0",
          "state": {
            "_model_module": "@jupyter-widgets/base",
            "_model_module_version": "1.2.0",
            "_model_name": "LayoutModel",
            "_view_count": null,
            "_view_module": "@jupyter-widgets/base",
            "_view_module_version": "1.2.0",
            "_view_name": "LayoutView",
            "align_content": null,
            "align_items": null,
            "align_self": null,
            "border": null,
            "bottom": null,
            "display": null,
            "flex": null,
            "flex_flow": null,
            "grid_area": null,
            "grid_auto_columns": null,
            "grid_auto_flow": null,
            "grid_auto_rows": null,
            "grid_column": null,
            "grid_gap": null,
            "grid_row": null,
            "grid_template_areas": null,
            "grid_template_columns": null,
            "grid_template_rows": null,
            "height": null,
            "justify_content": null,
            "justify_items": null,
            "left": null,
            "margin": null,
            "max_height": null,
            "max_width": null,
            "min_height": null,
            "min_width": null,
            "object_fit": null,
            "object_position": null,
            "order": null,
            "overflow": null,
            "overflow_x": null,
            "overflow_y": null,
            "padding": null,
            "right": null,
            "top": null,
            "visibility": null,
            "width": null
          }
        },
        "62b8764c459e480cb0f846b14002166c": {
          "model_module": "@jupyter-widgets/controls",
          "model_name": "DescriptionStyleModel",
          "model_module_version": "1.5.0",
          "state": {
            "_model_module": "@jupyter-widgets/controls",
            "_model_module_version": "1.5.0",
            "_model_name": "DescriptionStyleModel",
            "_view_count": null,
            "_view_module": "@jupyter-widgets/base",
            "_view_module_version": "1.2.0",
            "_view_name": "StyleView",
            "description_width": ""
          }
        },
        "e21fa0eb1830437b91e7bf98eb6916dd": {
          "model_module": "@jupyter-widgets/base",
          "model_name": "LayoutModel",
          "model_module_version": "1.2.0",
          "state": {
            "_model_module": "@jupyter-widgets/base",
            "_model_module_version": "1.2.0",
            "_model_name": "LayoutModel",
            "_view_count": null,
            "_view_module": "@jupyter-widgets/base",
            "_view_module_version": "1.2.0",
            "_view_name": "LayoutView",
            "align_content": null,
            "align_items": null,
            "align_self": null,
            "border": null,
            "bottom": null,
            "display": null,
            "flex": null,
            "flex_flow": null,
            "grid_area": null,
            "grid_auto_columns": null,
            "grid_auto_flow": null,
            "grid_auto_rows": null,
            "grid_column": null,
            "grid_gap": null,
            "grid_row": null,
            "grid_template_areas": null,
            "grid_template_columns": null,
            "grid_template_rows": null,
            "height": null,
            "justify_content": null,
            "justify_items": null,
            "left": null,
            "margin": null,
            "max_height": null,
            "max_width": null,
            "min_height": null,
            "min_width": null,
            "object_fit": null,
            "object_position": null,
            "order": null,
            "overflow": null,
            "overflow_x": null,
            "overflow_y": null,
            "padding": null,
            "right": null,
            "top": null,
            "visibility": null,
            "width": null
          }
        },
        "23db76d91cfb47ba9537bbca643a6393": {
          "model_module": "@jupyter-widgets/controls",
          "model_name": "ProgressStyleModel",
          "model_module_version": "1.5.0",
          "state": {
            "_model_module": "@jupyter-widgets/controls",
            "_model_module_version": "1.5.0",
            "_model_name": "ProgressStyleModel",
            "_view_count": null,
            "_view_module": "@jupyter-widgets/base",
            "_view_module_version": "1.2.0",
            "_view_name": "StyleView",
            "bar_color": null,
            "description_width": ""
          }
        },
        "4e50faf55c214fecb655c20264b29dda": {
          "model_module": "@jupyter-widgets/base",
          "model_name": "LayoutModel",
          "model_module_version": "1.2.0",
          "state": {
            "_model_module": "@jupyter-widgets/base",
            "_model_module_version": "1.2.0",
            "_model_name": "LayoutModel",
            "_view_count": null,
            "_view_module": "@jupyter-widgets/base",
            "_view_module_version": "1.2.0",
            "_view_name": "LayoutView",
            "align_content": null,
            "align_items": null,
            "align_self": null,
            "border": null,
            "bottom": null,
            "display": null,
            "flex": null,
            "flex_flow": null,
            "grid_area": null,
            "grid_auto_columns": null,
            "grid_auto_flow": null,
            "grid_auto_rows": null,
            "grid_column": null,
            "grid_gap": null,
            "grid_row": null,
            "grid_template_areas": null,
            "grid_template_columns": null,
            "grid_template_rows": null,
            "height": null,
            "justify_content": null,
            "justify_items": null,
            "left": null,
            "margin": null,
            "max_height": null,
            "max_width": null,
            "min_height": null,
            "min_width": null,
            "object_fit": null,
            "object_position": null,
            "order": null,
            "overflow": null,
            "overflow_x": null,
            "overflow_y": null,
            "padding": null,
            "right": null,
            "top": null,
            "visibility": null,
            "width": null
          }
        },
        "ba0dd76616664ac29a4735d60b73f7db": {
          "model_module": "@jupyter-widgets/controls",
          "model_name": "DescriptionStyleModel",
          "model_module_version": "1.5.0",
          "state": {
            "_model_module": "@jupyter-widgets/controls",
            "_model_module_version": "1.5.0",
            "_model_name": "DescriptionStyleModel",
            "_view_count": null,
            "_view_module": "@jupyter-widgets/base",
            "_view_module_version": "1.2.0",
            "_view_name": "StyleView",
            "description_width": ""
          }
        }
      }
    }
  },
  "cells": [
    {
      "cell_type": "markdown",
      "metadata": {
        "id": "view-in-github",
        "colab_type": "text"
      },
      "source": [
        "<a href=\"https://colab.research.google.com/github/bala1802/ERA/blob/main/Session-10/Session_10_Working.ipynb\" target=\"_parent\"><img src=\"https://colab.research.google.com/assets/colab-badge.svg\" alt=\"Open In Colab\"/></a>"
      ]
    },
    {
      "cell_type": "code",
      "execution_count": 1,
      "metadata": {
        "colab": {
          "base_uri": "https://localhost:8080/"
        },
        "id": "4xAphlQC7jZv",
        "outputId": "d8e8ca35-e132-40f6-9123-e9e3f27d0619"
      },
      "outputs": [
        {
          "output_type": "stream",
          "name": "stdout",
          "text": [
            "/content/drive/MyDrive/ERA-Session-10\n"
          ]
        }
      ],
      "source": [
        "cd /content/drive/MyDrive/ERA-Session-10"
      ]
    },
    {
      "cell_type": "code",
      "source": [
        "# !git clone https://github.com/bala1802/modular.git"
      ],
      "metadata": {
        "id": "gt7zrKPk8Ewv"
      },
      "execution_count": 10,
      "outputs": []
    },
    {
      "cell_type": "code",
      "source": [
        "!pip install -r /content/drive/MyDrive/ERA-Session-10/modular/requirements.txt -q"
      ],
      "metadata": {
        "id": "sWhDyCXg9Qt3"
      },
      "execution_count": 1,
      "outputs": []
    },
    {
      "cell_type": "code",
      "source": [
        "cd /content/drive/MyDrive/ERA-Session-10/modular"
      ],
      "metadata": {
        "colab": {
          "base_uri": "https://localhost:8080/"
        },
        "id": "qKINK1qhY6xJ",
        "outputId": "b99d0620-d10c-483a-cd0d-0c25329d017b"
      },
      "execution_count": 2,
      "outputs": [
        {
          "output_type": "stream",
          "name": "stdout",
          "text": [
            "/content/drive/MyDrive/ERA-Session-10/modular\n"
          ]
        }
      ]
    },
    {
      "cell_type": "code",
      "source": [
        "cd /content/drive/MyDrive/ERA-Session-10"
      ],
      "metadata": {
        "colab": {
          "base_uri": "https://localhost:8080/"
        },
        "id": "Wb_FxShXZ6eq",
        "outputId": "e94fb59c-b93d-47df-e1ed-a32aedc99a87"
      },
      "execution_count": 2,
      "outputs": [
        {
          "output_type": "stream",
          "name": "stdout",
          "text": [
            "/content/drive/MyDrive/ERA-Session-10\n"
          ]
        }
      ]
    },
    {
      "cell_type": "code",
      "source": [
        "# !git pull"
      ],
      "metadata": {
        "id": "V0D0d_CfZzrt"
      },
      "execution_count": 3,
      "outputs": []
    },
    {
      "cell_type": "code",
      "source": [
        "from modular.model import CustomResNet01\n",
        "from modular.transforms import CustomResnetTransforms\n",
        "from modular.dataloader import Cifar10SearchDataset\n",
        "import modular.utils as utils\n",
        "\n",
        "from torchsummary import summary\n",
        "import yaml\n",
        "from yaml.loader import SafeLoader"
      ],
      "metadata": {
        "colab": {
          "base_uri": "https://localhost:8080/"
        },
        "id": "nhg99kRp8NJP",
        "outputId": "538a8f82-7d7f-40fd-d9d2-598069b09942"
      },
      "execution_count": 4,
      "outputs": [
        {
          "output_type": "stream",
          "name": "stdout",
          "text": [
            "CUDA Available? True\n"
          ]
        },
        {
          "output_type": "stream",
          "name": "stderr",
          "text": [
            "/usr/local/lib/python3.10/dist-packages/torch_lr_finder/lr_finder.py:5: TqdmExperimentalWarning: Using `tqdm.autonotebook.tqdm` in notebook mode. Use `tqdm.tqdm` instead to force console mode (e.g. in jupyter console)\n",
            "  from tqdm.autonotebook import tqdm\n"
          ]
        }
      ]
    },
    {
      "cell_type": "markdown",
      "source": [
        "# Load Parameters"
      ],
      "metadata": {
        "id": "DHp6cDa3bywv"
      }
    },
    {
      "cell_type": "code",
      "source": [
        "with open(\"modular/params.yaml\") as f:\n",
        "    params = yaml.load(f, Loader=SafeLoader)"
      ],
      "metadata": {
        "id": "1oj1mUUY8Shm"
      },
      "execution_count": 5,
      "outputs": []
    },
    {
      "cell_type": "markdown",
      "source": [
        "# Data Loading"
      ],
      "metadata": {
        "id": "iGVBOtCEb0-l"
      }
    },
    {
      "cell_type": "code",
      "source": [
        "means = params[\"transform_means\"]\n",
        "stds = params[\"transform_stds\"]\n",
        "\n",
        "train_transforms = CustomResnetTransforms.train_transforms(means=means, stds=stds)\n",
        "test_transforms = CustomResnetTransforms.test_transforms(means, stds)"
      ],
      "metadata": {
        "id": "qKRFdHqr9gha"
      },
      "execution_count": 6,
      "outputs": []
    },
    {
      "cell_type": "code",
      "source": [
        "train = Cifar10SearchDataset(root='./data', train=True,\n",
        "                                        download=True, transform=train_transforms)\n",
        "test = Cifar10SearchDataset(root='./data', train=False,\n",
        "                                       download=True, transform=test_transforms)"
      ],
      "metadata": {
        "colab": {
          "base_uri": "https://localhost:8080/"
        },
        "id": "JuRwxtwu9hZ_",
        "outputId": "acd0eec8-8b9e-42fe-eea7-552e5eafe55e"
      },
      "execution_count": 7,
      "outputs": [
        {
          "output_type": "stream",
          "name": "stdout",
          "text": [
            "Files already downloaded and verified\n",
            "Files already downloaded and verified\n"
          ]
        }
      ]
    },
    {
      "cell_type": "code",
      "source": [
        "len(train), len(test)"
      ],
      "metadata": {
        "colab": {
          "base_uri": "https://localhost:8080/"
        },
        "id": "ciDupL5SaKr4",
        "outputId": "73d6fb13-7e30-42fa-d213-f8e4e57e5ed7"
      },
      "execution_count": 8,
      "outputs": [
        {
          "output_type": "execute_result",
          "data": {
            "text/plain": [
              "(50000, 10000)"
            ]
          },
          "metadata": {},
          "execution_count": 8
        }
      ]
    },
    {
      "cell_type": "code",
      "source": [
        "train_loader = utils.construct_train_loader(train)\n",
        "test_loader = utils.construct_test_loader(test)\n",
        "\n",
        "len(train_loader), len(test_loader)"
      ],
      "metadata": {
        "colab": {
          "base_uri": "https://localhost:8080/"
        },
        "id": "PiGam6q_aOcU",
        "outputId": "572f2fd3-a2c3-4d9c-fea3-b1a1f69a256a"
      },
      "execution_count": 9,
      "outputs": [
        {
          "output_type": "execute_result",
          "data": {
            "text/plain": [
              "(98, 20)"
            ]
          },
          "metadata": {},
          "execution_count": 9
        }
      ]
    },
    {
      "cell_type": "markdown",
      "source": [
        "# Model Creation"
      ],
      "metadata": {
        "id": "-zhdZth_buaf"
      }
    },
    {
      "cell_type": "code",
      "source": [
        "model = CustomResNet01().to(utils.get_device())\n",
        "summary(model, input_size= (3, 32, 32))"
      ],
      "metadata": {
        "colab": {
          "base_uri": "https://localhost:8080/"
        },
        "id": "TQiehVSxaYmf",
        "outputId": "e692e6e8-1896-4d7c-e8e9-8abb9219fe09"
      },
      "execution_count": 10,
      "outputs": [
        {
          "output_type": "stream",
          "name": "stdout",
          "text": [
            "----------------------------------------------------------------\n",
            "        Layer (type)               Output Shape         Param #\n",
            "================================================================\n",
            "            Conv2d-1           [-1, 64, 32, 32]           1,728\n",
            "       BatchNorm2d-2           [-1, 64, 32, 32]             128\n",
            "              ReLU-3           [-1, 64, 32, 32]               0\n",
            "            Conv2d-4          [-1, 128, 34, 34]           8,192\n",
            "       BatchNorm2d-5          [-1, 128, 34, 34]             256\n",
            "              ReLU-6          [-1, 128, 34, 34]               0\n",
            "         MaxPool2d-7          [-1, 128, 17, 17]               0\n",
            "            Conv2d-8          [-1, 128, 17, 17]         147,456\n",
            "       BatchNorm2d-9          [-1, 128, 17, 17]             256\n",
            "             ReLU-10          [-1, 128, 17, 17]               0\n",
            "           Conv2d-11          [-1, 128, 17, 17]         147,456\n",
            "      BatchNorm2d-12          [-1, 128, 17, 17]             256\n",
            "             ReLU-13          [-1, 128, 17, 17]               0\n",
            "           Conv2d-14          [-1, 256, 19, 19]          32,768\n",
            "      BatchNorm2d-15          [-1, 256, 19, 19]             512\n",
            "             ReLU-16          [-1, 256, 19, 19]               0\n",
            "        MaxPool2d-17            [-1, 256, 9, 9]               0\n",
            "           Conv2d-18          [-1, 512, 11, 11]         131,072\n",
            "      BatchNorm2d-19          [-1, 512, 11, 11]           1,024\n",
            "             ReLU-20          [-1, 512, 11, 11]               0\n",
            "        MaxPool2d-21            [-1, 512, 5, 5]               0\n",
            "           Conv2d-22            [-1, 512, 5, 5]       2,359,296\n",
            "      BatchNorm2d-23            [-1, 512, 5, 5]           1,024\n",
            "             ReLU-24            [-1, 512, 5, 5]               0\n",
            "           Conv2d-25            [-1, 512, 5, 5]       2,359,296\n",
            "      BatchNorm2d-26            [-1, 512, 5, 5]           1,024\n",
            "             ReLU-27            [-1, 512, 5, 5]               0\n",
            "AdaptiveAvgPool2d-28            [-1, 512, 1, 1]               0\n",
            "           Linear-29                   [-1, 10]           5,130\n",
            "================================================================\n",
            "Total params: 5,196,874\n",
            "Trainable params: 5,196,874\n",
            "Non-trainable params: 0\n",
            "----------------------------------------------------------------\n",
            "Input size (MB): 0.01\n",
            "Forward/backward pass size (MB): 11.24\n",
            "Params size (MB): 19.82\n",
            "Estimated Total Size (MB): 31.08\n",
            "----------------------------------------------------------------\n"
          ]
        }
      ]
    },
    {
      "cell_type": "markdown",
      "source": [
        "# Load Model Training Configuration"
      ],
      "metadata": {
        "id": "8H3xJkxkcBIx"
      }
    },
    {
      "cell_type": "code",
      "source": [
        "optimizer = utils.construct_optimizer(model=model, learning_rate=0.03, weight_decay=1e-4)\n",
        "cross_entropy_loss = utils.construct_cross_entropy_loss()"
      ],
      "metadata": {
        "id": "JuqzfvhJbSwH"
      },
      "execution_count": 11,
      "outputs": []
    },
    {
      "cell_type": "code",
      "source": [
        "lr_finder = utils.construct_LR_finder(model=model, optimizer=optimizer, criterion=cross_entropy_loss, device=\"cuda\",\n",
        "                          dataloader=train_loader, end_learning_rate=10,\n",
        "                          number_of_iterations=200, step_mode=\"exp\")"
      ],
      "metadata": {
        "colab": {
          "base_uri": "https://localhost:8080/",
          "height": 83,
          "referenced_widgets": [
            "7bfd08e664db428d860c0853011f1b44",
            "fa0d4e5a56da4b5dbcf50c29c363dced",
            "ee5e2861cb90427bb82527920f243ff4",
            "6c539a9cae4b4ec88b09aac5643bf5cf",
            "10c2fdb657db4c9fbcf2707bc9e62666",
            "a0658c25076f49bc8e2ede8c144273ec",
            "62b8764c459e480cb0f846b14002166c",
            "e21fa0eb1830437b91e7bf98eb6916dd",
            "23db76d91cfb47ba9537bbca643a6393",
            "4e50faf55c214fecb655c20264b29dda",
            "ba0dd76616664ac29a4735d60b73f7db"
          ]
        },
        "id": "Kphsazb3cFjb",
        "outputId": "cfded2b2-f8d4-4e9a-dacc-985ee3ab2c73"
      },
      "execution_count": 12,
      "outputs": [
        {
          "output_type": "display_data",
          "data": {
            "text/plain": [
              "  0%|          | 0/200 [00:00<?, ?it/s]"
            ],
            "application/vnd.jupyter.widget-view+json": {
              "version_major": 2,
              "version_minor": 0,
              "model_id": "7bfd08e664db428d860c0853011f1b44"
            }
          },
          "metadata": {}
        },
        {
          "output_type": "stream",
          "name": "stdout",
          "text": [
            "Stopping early, the loss has diverged\n",
            "Learning rate search finished. See the graph with {finder_name}.plot()\n"
          ]
        }
      ]
    },
    {
      "cell_type": "code",
      "source": [
        "lr_finder.plot()"
      ],
      "metadata": {
        "colab": {
          "base_uri": "https://localhost:8080/",
          "height": 505
        },
        "id": "eC5QTR2ccKa3",
        "outputId": "d61182de-f830-4648-a509-d87afb7f5c47"
      },
      "execution_count": 13,
      "outputs": [
        {
          "output_type": "stream",
          "name": "stdout",
          "text": [
            "LR suggestion: steepest gradient\n",
            "Suggested LR: 4.79E-02\n"
          ]
        },
        {
          "output_type": "display_data",
          "data": {
            "text/plain": [
              "<Figure size 640x480 with 1 Axes>"
            ],
            "image/png": "[encoded data removed]"
          },
          "metadata": {}
        },
        {
          "output_type": "execute_result",
          "data": {
            "text/plain": [
              "(<Axes: xlabel='Learning rate', ylabel='Loss'>, 0.04785923770503283)"
            ]
          },
          "metadata": {},
          "execution_count": 13
        }
      ]
    },
    {
      "cell_type": "code",
      "source": [],
      "metadata": {
        "id": "OEXZPpUNeje2"
      },
      "execution_count": null,
      "outputs": []
    }
  ]
}