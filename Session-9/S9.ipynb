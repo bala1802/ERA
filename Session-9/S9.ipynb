{
  "nbformat": 4,
  "nbformat_minor": 0,
  "metadata": {
    "colab": {
      "provenance": [],
      "gpuType": "T4",
      "mount_file_id": "1fZXxciPhKiCpVrjhnQyI_BX79L3jAxb2",
      "authorship_tag": "ABX9TyPVTsm11D1dI3CXZlVZa98d",
      "include_colab_link": true
    },
    "kernelspec": {
      "name": "python3",
      "display_name": "Python 3"
    },
    "language_info": {
      "name": "python"
    },
    "accelerator": "GPU"
  },
  "cells": [
    {
      "cell_type": "markdown",
      "metadata": {
        "id": "view-in-github",
        "colab_type": "text"
      },
      "source": [
        "<a href=\"https://colab.research.google.com/github/bala1802/ERA/blob/main/Session-9/S9.ipynb\" target=\"_parent\"><img src=\"https://colab.research.google.com/assets/colab-badge.svg\" alt=\"Open In Colab\"/></a>"
      ]
    },
    {
      "cell_type": "markdown",
      "source": [
        "# Libraries"
      ],
      "metadata": {
        "id": "yf4fk4qj629A"
      }
    },
    {
      "cell_type": "code",
      "execution_count": 1,
      "metadata": {
        "id": "UPRBkEwhi_BZ"
      },
      "outputs": [],
      "source": [
        "import torch\n",
        "from torchsummary import summary\n",
        "import torchvision\n",
        "import random\n",
        "import matplotlib.pyplot as plt\n",
        "import torchvision.transforms as transforms"
      ]
    },
    {
      "cell_type": "code",
      "source": [
        "cd /content/drive/MyDrive/ERA-Session-9"
      ],
      "metadata": {
        "colab": {
          "base_uri": "https://localhost:8080/"
        },
        "id": "ozQWCSNzr3Me",
        "outputId": "27b162c2-655b-4f3b-cb8c-3e544cac8cb8"
      },
      "execution_count": 2,
      "outputs": [
        {
          "output_type": "stream",
          "name": "stdout",
          "text": [
            "/content/drive/MyDrive/ERA-Session-9\n"
          ]
        }
      ]
    },
    {
      "cell_type": "markdown",
      "source": [
        "# Helper Scripts"
      ],
      "metadata": {
        "id": "gTAFiYfj66aV"
      }
    },
    {
      "cell_type": "code",
      "source": [
        "import model as model\n",
        "import util as util"
      ],
      "metadata": {
        "colab": {
          "base_uri": "https://localhost:8080/"
        },
        "id": "ZZxgp3JVr_NZ",
        "outputId": "4d323e29-ca4f-4757-86aa-3eeac8f76b25"
      },
      "execution_count": 3,
      "outputs": [
        {
          "output_type": "stream",
          "name": "stdout",
          "text": [
            "CUDA Available? True\n"
          ]
        }
      ]
    },
    {
      "cell_type": "markdown",
      "source": [
        "# CUDA Settings"
      ],
      "metadata": {
        "id": "6i9xoDHn68X4"
      }
    },
    {
      "cell_type": "code",
      "source": [
        "use_cuda = torch.cuda.is_available()\n",
        "device = torch.device(\"cuda\" if use_cuda else \"cpu\")\n",
        "print(device)"
      ],
      "metadata": {
        "colab": {
          "base_uri": "https://localhost:8080/"
        },
        "id": "kkOzqGCmsA7Y",
        "outputId": "56d9cdcd-3e90-4382-9150-351428ba160b"
      },
      "execution_count": 4,
      "outputs": [
        {
          "output_type": "stream",
          "name": "stdout",
          "text": [
            "cuda\n"
          ]
        }
      ]
    },
    {
      "cell_type": "markdown",
      "source": [
        "# Model Construction"
      ],
      "metadata": {
        "id": "orelM4If6_zm"
      }
    },
    {
      "cell_type": "code",
      "source": [
        "model_1 = model.Model_1().to(device)\n",
        "summary(model_1, input_size=(3, 32, 32))"
      ],
      "metadata": {
        "colab": {
          "base_uri": "https://localhost:8080/"
        },
        "id": "IJg7i2Iz0TzN",
        "outputId": "19876d1e-a20d-4ef3-d368-aacda463bacc"
      },
      "execution_count": 5,
      "outputs": [
        {
          "output_type": "stream",
          "name": "stdout",
          "text": [
            "----------------------------------------------------------------\n",
            "        Layer (type)               Output Shape         Param #\n",
            "================================================================\n",
            "            Conv2d-1           [-1, 60, 32, 32]             540\n",
            "       BatchNorm2d-2           [-1, 60, 32, 32]             120\n",
            "              ReLU-3           [-1, 60, 32, 32]               0\n",
            "            Conv2d-4           [-1, 30, 34, 34]           1,800\n",
            "       BatchNorm2d-5           [-1, 30, 34, 34]              60\n",
            "              ReLU-6           [-1, 30, 34, 34]               0\n",
            "            Conv2d-7           [-1, 60, 30, 30]          16,200\n",
            "       BatchNorm2d-8           [-1, 60, 30, 30]             120\n",
            "              ReLU-9           [-1, 60, 30, 30]               0\n",
            "           Conv2d-10          [-1, 120, 30, 30]           1,080\n",
            "      BatchNorm2d-11          [-1, 120, 30, 30]             240\n",
            "             ReLU-12          [-1, 120, 30, 30]               0\n",
            "           Conv2d-13           [-1, 30, 32, 32]           3,600\n",
            "      BatchNorm2d-14           [-1, 30, 32, 32]              60\n",
            "             ReLU-15           [-1, 30, 32, 32]               0\n",
            "           Conv2d-16           [-1, 60, 28, 28]          16,200\n",
            "      BatchNorm2d-17           [-1, 60, 28, 28]             120\n",
            "             ReLU-18           [-1, 60, 28, 28]               0\n",
            "           Conv2d-19          [-1, 120, 28, 28]           1,080\n",
            "      BatchNorm2d-20          [-1, 120, 28, 28]             240\n",
            "             ReLU-21          [-1, 120, 28, 28]               0\n",
            "           Conv2d-22           [-1, 30, 28, 28]           3,600\n",
            "      BatchNorm2d-23           [-1, 30, 28, 28]              60\n",
            "             ReLU-24           [-1, 30, 28, 28]               0\n",
            "           Conv2d-25           [-1, 60, 24, 24]          16,200\n",
            "      BatchNorm2d-26           [-1, 60, 24, 24]             120\n",
            "             ReLU-27           [-1, 60, 24, 24]               0\n",
            "           Conv2d-28          [-1, 120, 22, 22]           1,080\n",
            "      BatchNorm2d-29          [-1, 120, 22, 22]             240\n",
            "             ReLU-30          [-1, 120, 22, 22]               0\n",
            "           Conv2d-31           [-1, 30, 22, 22]           3,600\n",
            "      BatchNorm2d-32           [-1, 30, 22, 22]              60\n",
            "             ReLU-33           [-1, 30, 22, 22]               0\n",
            "           Conv2d-34           [-1, 60, 18, 18]          16,200\n",
            "      BatchNorm2d-35           [-1, 60, 18, 18]             120\n",
            "             ReLU-36           [-1, 60, 18, 18]               0\n",
            "        AvgPool2d-37             [-1, 60, 1, 1]               0\n",
            "           Conv2d-38             [-1, 10, 1, 1]             600\n",
            "================================================================\n",
            "Total params: 83,340\n",
            "Trainable params: 83,340\n",
            "Non-trainable params: 0\n",
            "----------------------------------------------------------------\n",
            "Input size (MB): 0.01\n",
            "Forward/backward pass size (MB): 13.28\n",
            "Params size (MB): 0.32\n",
            "Estimated Total Size (MB): 13.61\n",
            "----------------------------------------------------------------\n"
          ]
        }
      ]
    },
    {
      "cell_type": "markdown",
      "source": [
        "# Data Utils"
      ],
      "metadata": {
        "id": "c91y5v8J7FY7"
      }
    },
    {
      "cell_type": "code",
      "source": [
        "class_names = util.load_class_names()"
      ],
      "metadata": {
        "id": "Z-kT_vgp8zPn"
      },
      "execution_count": 6,
      "outputs": []
    },
    {
      "cell_type": "code",
      "source": [
        "train_data = util.load_train_data()\n",
        "test_data = util.load_test_data()\n",
        "len(train_data), len(test_data)"
      ],
      "metadata": {
        "colab": {
          "base_uri": "https://localhost:8080/"
        },
        "id": "8SM78TfGF5pv",
        "outputId": "7bfd4f44-0107-4301-de36-3f1a688ef452"
      },
      "execution_count": 7,
      "outputs": [
        {
          "output_type": "stream",
          "name": "stdout",
          "text": [
            "Files already downloaded and verified\n",
            "Files already downloaded and verified\n"
          ]
        },
        {
          "output_type": "execute_result",
          "data": {
            "text/plain": [
              "(50000, 10000)"
            ]
          },
          "metadata": {},
          "execution_count": 7
        }
      ]
    },
    {
      "cell_type": "code",
      "source": [
        "train_loader = util.loadTrainLoader(train=train_data)\n",
        "test_loader = util.loadTestLoader(test=test_data)\n",
        "len(train_loader), len(test_loader)"
      ],
      "metadata": {
        "colab": {
          "base_uri": "https://localhost:8080/"
        },
        "id": "QVbzXLVcJrTO",
        "outputId": "1ac3627f-2810-493d-89b8-e7e494e651a5"
      },
      "execution_count": 8,
      "outputs": [
        {
          "output_type": "stream",
          "name": "stderr",
          "text": [
            "/usr/local/lib/python3.10/dist-packages/torch/utils/data/dataloader.py:560: UserWarning: This DataLoader will create 4 worker processes in total. Our suggested max number of worker in current system is 2, which is smaller than what this DataLoader is going to create. Please be aware that excessive worker creation might get DataLoader running slow or even freeze, lower the worker number to avoid potential slowness/freeze if necessary.\n",
            "  warnings.warn(_create_warning_msg(\n"
          ]
        },
        {
          "output_type": "execute_result",
          "data": {
            "text/plain": [
              "(391, 79)"
            ]
          },
          "metadata": {},
          "execution_count": 8
        }
      ]
    },
    {
      "cell_type": "markdown",
      "source": [
        "## Exploratory Data Analysis"
      ],
      "metadata": {
        "id": "3c7Oi726JveC"
      }
    },
    {
      "cell_type": "markdown",
      "source": [
        "### Train and Test data analysis"
      ],
      "metadata": {
        "id": "0BJZBlYWJ2jm"
      }
    },
    {
      "cell_type": "code",
      "source": [
        "util.explainData(train_data=train_data, test_data=test_data, train_loader=train_loader, test_loader=test_loader)"
      ],
      "metadata": {
        "colab": {
          "base_uri": "https://localhost:8080/"
        },
        "id": "rzcMB4LbJuez",
        "outputId": "a688baa0-4f71-4139-d29d-730179041a8b"
      },
      "execution_count": 9,
      "outputs": [
        {
          "output_type": "stream",
          "name": "stdout",
          "text": [
            "Train Data Length :  50000\n",
            "Shape of Each image present in the train_data: torch.Size([3, 32, 32])\n",
            "Test Data Length :  10000\n",
            "Shape of Each image present in the test_data: torch.Size([3, 32, 32])\n",
            "Train Loader Length :  391\n",
            "Test Loader Length :  79\n"
          ]
        }
      ]
    },
    {
      "cell_type": "markdown",
      "source": [
        "# Model Training & Testing"
      ],
      "metadata": {
        "id": "CosO3qI5LTh0"
      }
    },
    {
      "cell_type": "code",
      "source": [
        "optimizer = util.load_optimizer(model=model_1)\n",
        "train_acc, train_losses, test_acc, test_losses, misclassified_images_for_all_epochs, misclassified_labels_for_all_epochs = util.run_epochs(model=model_1, device=device, train_loader=train_loader,\n",
        "                                                                 test_loader=test_loader, numberOfEpochs=100)"
      ],
      "metadata": {
        "id": "MLBoSEd0OIR_",
        "colab": {
          "base_uri": "https://localhost:8080/",
          "height": 1000
        },
        "outputId": "dc3a27d1-940d-42ae-81d9-0893543709cb"
      },
      "execution_count": 10,
      "outputs": [
        {
          "metadata": {
            "tags": null
          },
          "name": "stdout",
          "output_type": "stream",
          "text": [
            "EPOCH: 0\n"
          ]
        },
        {
          "metadata": {
            "tags": null
          },
          "name": "stderr",
          "output_type": "stream",
          "text": [
            "Loss=1.624991774559021 Batch_id=390 Accuracy=30.69: 100%|██████████| 391/391 [00:25<00:00, 15.22it/s]\n"
          ]
        },
        {
          "metadata": {
            "tags": null
          },
          "name": "stdout",
          "output_type": "stream",
          "text": [
            "\n",
            "Test set: Average loss: 1.6479, Accuracy: 3829/10000 (38.29%)\n",
            "\n",
            "EPOCH: 1\n"
          ]
        },
        {
          "metadata": {
            "tags": null
          },
          "name": "stderr",
          "output_type": "stream",
          "text": [
            "Loss=1.3398473262786865 Batch_id=390 Accuracy=43.87: 100%|██████████| 391/391 [00:25<00:00, 15.61it/s]\n"
          ]
        },
        {
          "metadata": {
            "tags": null
          },
          "name": "stdout",
          "output_type": "stream",
          "text": [
            "\n",
            "Test set: Average loss: 1.4966, Accuracy: 4497/10000 (44.97%)\n",
            "\n",
            "EPOCH: 2\n"
          ]
        },
        {
          "metadata": {
            "tags": null
          },
          "name": "stderr",
          "output_type": "stream",
          "text": [
            "Loss=1.4628664255142212 Batch_id=390 Accuracy=48.78: 100%|██████████| 391/391 [00:25<00:00, 15.06it/s]\n"
          ]
        },
        {
          "metadata": {
            "tags": null
          },
          "name": "stdout",
          "output_type": "stream",
          "text": [
            "\n",
            "Test set: Average loss: 1.3427, Accuracy: 5121/10000 (51.21%)\n",
            "\n",
            "EPOCH: 3\n"
          ]
        },
        {
          "metadata": {
            "tags": null
          },
          "name": "stderr",
          "output_type": "stream",
          "text": [
            "Loss=1.2773329019546509 Batch_id=390 Accuracy=52.71: 100%|██████████| 391/391 [00:26<00:00, 14.79it/s]\n"
          ]
        },
        {
          "metadata": {
            "tags": null
          },
          "name": "stdout",
          "output_type": "stream",
          "text": [
            "\n",
            "Test set: Average loss: 1.3548, Accuracy: 5115/10000 (51.15%)\n",
            "\n",
            "EPOCH: 4\n"
          ]
        },
        {
          "metadata": {
            "tags": null
          },
          "name": "stderr",
          "output_type": "stream",
          "text": [
            "Loss=1.2338972091674805 Batch_id=390 Accuracy=55.28: 100%|██████████| 391/391 [00:26<00:00, 14.75it/s]\n"
          ]
        },
        {
          "metadata": {
            "tags": null
          },
          "name": "stdout",
          "output_type": "stream",
          "text": [
            "\n",
            "Test set: Average loss: 1.2811, Accuracy: 5394/10000 (53.94%)\n",
            "\n",
            "EPOCH: 5\n"
          ]
        },
        {
          "metadata": {
            "tags": null
          },
          "name": "stderr",
          "output_type": "stream",
          "text": [
            "Loss=1.0618503093719482 Batch_id=390 Accuracy=57.30: 100%|██████████| 391/391 [00:26<00:00, 14.75it/s]\n"
          ]
        },
        {
          "metadata": {
            "tags": null
          },
          "name": "stdout",
          "output_type": "stream",
          "text": [
            "\n",
            "Test set: Average loss: 1.2487, Accuracy: 5527/10000 (55.27%)\n",
            "\n",
            "EPOCH: 6\n"
          ]
        },
        {
          "metadata": {
            "tags": null
          },
          "name": "stderr",
          "output_type": "stream",
          "text": [
            "Loss=1.2148473262786865 Batch_id=390 Accuracy=58.62: 100%|██████████| 391/391 [00:26<00:00, 14.96it/s]\n"
          ]
        },
        {
          "metadata": {
            "tags": null
          },
          "name": "stdout",
          "output_type": "stream",
          "text": [
            "\n",
            "Test set: Average loss: 1.1833, Accuracy: 5788/10000 (57.88%)\n",
            "\n",
            "EPOCH: 7\n"
          ]
        },
        {
          "metadata": {
            "tags": null
          },
          "name": "stderr",
          "output_type": "stream",
          "text": [
            "Loss=1.0955179929733276 Batch_id=390 Accuracy=60.09: 100%|██████████| 391/391 [00:25<00:00, 15.12it/s]\n"
          ]
        },
        {
          "metadata": {
            "tags": null
          },
          "name": "stdout",
          "output_type": "stream",
          "text": [
            "\n",
            "Test set: Average loss: 1.1327, Accuracy: 5953/10000 (59.53%)\n",
            "\n",
            "EPOCH: 8\n"
          ]
        },
        {
          "metadata": {
            "tags": null
          },
          "name": "stderr",
          "output_type": "stream",
          "text": [
            "Loss=0.9794844388961792 Batch_id=390 Accuracy=61.42: 100%|██████████| 391/391 [00:25<00:00, 15.09it/s]\n"
          ]
        },
        {
          "metadata": {
            "tags": null
          },
          "name": "stdout",
          "output_type": "stream",
          "text": [
            "\n",
            "Test set: Average loss: 1.1014, Accuracy: 6019/10000 (60.19%)\n",
            "\n",
            "EPOCH: 9\n"
          ]
        },
        {
          "metadata": {
            "tags": null
          },
          "name": "stderr",
          "output_type": "stream",
          "text": [
            "Loss=1.0417841672897339 Batch_id=390 Accuracy=62.53: 100%|██████████| 391/391 [00:25<00:00, 15.42it/s]\n"
          ]
        },
        {
          "metadata": {
            "tags": null
          },
          "name": "stdout",
          "output_type": "stream",
          "text": [
            "\n",
            "Test set: Average loss: 1.1055, Accuracy: 6095/10000 (60.95%)\n",
            "\n",
            "EPOCH: 10\n"
          ]
        },
        {
          "metadata": {
            "tags": null
          },
          "name": "stderr",
          "output_type": "stream",
          "text": [
            "Loss=0.9413657188415527 Batch_id=390 Accuracy=63.33: 100%|██████████| 391/391 [00:25<00:00, 15.39it/s]\n"
          ]
        },
        {
          "metadata": {
            "tags": null
          },
          "name": "stdout",
          "output_type": "stream",
          "text": [
            "\n",
            "Test set: Average loss: 1.0949, Accuracy: 6099/10000 (60.99%)\n",
            "\n",
            "EPOCH: 11\n"
          ]
        },
        {
          "metadata": {
            "tags": null
          },
          "name": "stderr",
          "output_type": "stream",
          "text": [
            "Loss=1.0147974491119385 Batch_id=390 Accuracy=64.00: 100%|██████████| 391/391 [00:25<00:00, 15.49it/s]\n"
          ]
        },
        {
          "metadata": {
            "tags": null
          },
          "name": "stdout",
          "output_type": "stream",
          "text": [
            "\n",
            "Test set: Average loss: 1.0500, Accuracy: 6294/10000 (62.94%)\n",
            "\n",
            "EPOCH: 12\n"
          ]
        },
        {
          "metadata": {
            "tags": null
          },
          "name": "stderr",
          "output_type": "stream",
          "text": [
            "Loss=1.0870954990386963 Batch_id=390 Accuracy=64.64: 100%|██████████| 391/391 [00:25<00:00, 15.56it/s]\n"
          ]
        },
        {
          "metadata": {
            "tags": null
          },
          "name": "stdout",
          "output_type": "stream",
          "text": [
            "\n",
            "Test set: Average loss: 1.1272, Accuracy: 5998/10000 (59.98%)\n",
            "\n",
            "EPOCH: 13\n"
          ]
        },
        {
          "metadata": {
            "tags": null
          },
          "name": "stderr",
          "output_type": "stream",
          "text": [
            "Loss=0.8931567072868347 Batch_id=390 Accuracy=65.41: 100%|██████████| 391/391 [00:25<00:00, 15.40it/s]\n"
          ]
        },
        {
          "metadata": {
            "tags": null
          },
          "name": "stdout",
          "output_type": "stream",
          "text": [
            "\n",
            "Test set: Average loss: 1.0057, Accuracy: 6394/10000 (63.94%)\n",
            "\n",
            "EPOCH: 14\n"
          ]
        },
        {
          "metadata": {
            "tags": null
          },
          "name": "stderr",
          "output_type": "stream",
          "text": [
            "Loss=1.0231577157974243 Batch_id=390 Accuracy=65.50: 100%|██████████| 391/391 [00:25<00:00, 15.33it/s]\n"
          ]
        },
        {
          "metadata": {
            "tags": null
          },
          "name": "stdout",
          "output_type": "stream",
          "text": [
            "\n",
            "Test set: Average loss: 1.0462, Accuracy: 6340/10000 (63.40%)\n",
            "\n",
            "EPOCH: 15\n"
          ]
        },
        {
          "metadata": {
            "tags": null
          },
          "name": "stderr",
          "output_type": "stream",
          "text": [
            "Loss=0.775718092918396 Batch_id=390 Accuracy=66.37: 100%|██████████| 391/391 [00:25<00:00, 15.26it/s]\n"
          ]
        },
        {
          "metadata": {
            "tags": null
          },
          "name": "stdout",
          "output_type": "stream",
          "text": [
            "\n",
            "Test set: Average loss: 1.0145, Accuracy: 6407/10000 (64.07%)\n",
            "\n",
            "EPOCH: 16\n"
          ]
        },
        {
          "metadata": {
            "tags": null
          },
          "name": "stderr",
          "output_type": "stream",
          "text": [
            "Loss=1.1485769748687744 Batch_id=390 Accuracy=66.72: 100%|██████████| 391/391 [00:26<00:00, 14.84it/s]\n"
          ]
        },
        {
          "metadata": {
            "tags": null
          },
          "name": "stdout",
          "output_type": "stream",
          "text": [
            "\n",
            "Test set: Average loss: 0.9525, Accuracy: 6649/10000 (66.49%)\n",
            "\n",
            "EPOCH: 17\n"
          ]
        },
        {
          "metadata": {
            "tags": null
          },
          "name": "stderr",
          "output_type": "stream",
          "text": [
            "Loss=1.3176445960998535 Batch_id=390 Accuracy=66.93: 100%|██████████| 391/391 [00:26<00:00, 14.87it/s]\n"
          ]
        },
        {
          "metadata": {
            "tags": null
          },
          "name": "stdout",
          "output_type": "stream",
          "text": [
            "\n",
            "Test set: Average loss: 1.0015, Accuracy: 6521/10000 (65.21%)\n",
            "\n",
            "EPOCH: 18\n"
          ]
        },
        {
          "metadata": {
            "tags": null
          },
          "name": "stderr",
          "output_type": "stream",
          "text": [
            "Loss=1.1667677164077759 Batch_id=390 Accuracy=67.74: 100%|██████████| 391/391 [00:26<00:00, 14.91it/s]\n"
          ]
        },
        {
          "metadata": {
            "tags": null
          },
          "name": "stdout",
          "output_type": "stream",
          "text": [
            "\n",
            "Test set: Average loss: 0.9624, Accuracy: 6596/10000 (65.96%)\n",
            "\n",
            "EPOCH: 19\n"
          ]
        },
        {
          "metadata": {
            "tags": null
          },
          "name": "stderr",
          "output_type": "stream",
          "text": [
            "Loss=1.0349067449569702 Batch_id=390 Accuracy=68.23: 100%|██████████| 391/391 [00:26<00:00, 14.86it/s]\n"
          ]
        },
        {
          "metadata": {
            "tags": null
          },
          "name": "stdout",
          "output_type": "stream",
          "text": [
            "\n",
            "Test set: Average loss: 0.9483, Accuracy: 6631/10000 (66.31%)\n",
            "\n",
            "EPOCH: 20\n"
          ]
        },
        {
          "metadata": {
            "tags": null
          },
          "name": "stderr",
          "output_type": "stream",
          "text": [
            "Loss=0.7619491815567017 Batch_id=390 Accuracy=68.32: 100%|██████████| 391/391 [00:26<00:00, 14.90it/s]\n"
          ]
        },
        {
          "metadata": {
            "tags": null
          },
          "name": "stdout",
          "output_type": "stream",
          "text": [
            "\n",
            "Test set: Average loss: 0.9476, Accuracy: 6686/10000 (66.86%)\n",
            "\n",
            "EPOCH: 21\n"
          ]
        },
        {
          "metadata": {
            "tags": null
          },
          "name": "stderr",
          "output_type": "stream",
          "text": [
            "Loss=0.6934243440628052 Batch_id=390 Accuracy=68.60: 100%|██████████| 391/391 [00:26<00:00, 14.87it/s]\n"
          ]
        },
        {
          "metadata": {
            "tags": null
          },
          "name": "stdout",
          "output_type": "stream",
          "text": [
            "\n",
            "Test set: Average loss: 0.9260, Accuracy: 6756/10000 (67.56%)\n",
            "\n",
            "EPOCH: 22\n"
          ]
        },
        {
          "metadata": {
            "tags": null
          },
          "name": "stderr",
          "output_type": "stream",
          "text": [
            "Loss=0.966335654258728 Batch_id=390 Accuracy=68.91: 100%|██████████| 391/391 [00:26<00:00, 14.88it/s]\n"
          ]
        },
        {
          "metadata": {
            "tags": null
          },
          "name": "stdout",
          "output_type": "stream",
          "text": [
            "\n",
            "Test set: Average loss: 0.9395, Accuracy: 6755/10000 (67.55%)\n",
            "\n",
            "EPOCH: 23\n"
          ]
        },
        {
          "metadata": {
            "tags": null
          },
          "name": "stderr",
          "output_type": "stream",
          "text": [
            "Loss=0.8368398547172546 Batch_id=390 Accuracy=69.23: 100%|██████████| 391/391 [00:26<00:00, 14.87it/s]\n"
          ]
        },
        {
          "metadata": {
            "tags": null
          },
          "name": "stdout",
          "output_type": "stream",
          "text": [
            "\n",
            "Test set: Average loss: 0.9584, Accuracy: 6685/10000 (66.85%)\n",
            "\n",
            "EPOCH: 24\n"
          ]
        },
        {
          "metadata": {
            "tags": null
          },
          "name": "stderr",
          "output_type": "stream",
          "text": [
            "Loss=0.936804473400116 Batch_id=390 Accuracy=69.22: 100%|██████████| 391/391 [00:26<00:00, 14.88it/s]\n"
          ]
        },
        {
          "metadata": {
            "tags": null
          },
          "name": "stdout",
          "output_type": "stream",
          "text": [
            "\n",
            "Test set: Average loss: 0.9482, Accuracy: 6625/10000 (66.25%)\n",
            "\n",
            "EPOCH: 25\n"
          ]
        },
        {
          "metadata": {
            "tags": null
          },
          "name": "stderr",
          "output_type": "stream",
          "text": [
            "Loss=0.8517988324165344 Batch_id=390 Accuracy=69.99: 100%|██████████| 391/391 [00:26<00:00, 14.78it/s]\n"
          ]
        },
        {
          "metadata": {
            "tags": null
          },
          "name": "stdout",
          "output_type": "stream",
          "text": [
            "\n",
            "Test set: Average loss: 0.9357, Accuracy: 6680/10000 (66.80%)\n",
            "\n",
            "EPOCH: 26\n"
          ]
        },
        {
          "metadata": {
            "tags": null
          },
          "name": "stderr",
          "output_type": "stream",
          "text": [
            "Loss=1.0371596813201904 Batch_id=390 Accuracy=70.26: 100%|██████████| 391/391 [00:26<00:00, 14.74it/s]\n"
          ]
        },
        {
          "metadata": {
            "tags": null
          },
          "name": "stdout",
          "output_type": "stream",
          "text": [
            "\n",
            "Test set: Average loss: 0.9198, Accuracy: 6776/10000 (67.76%)\n",
            "\n",
            "EPOCH: 27\n"
          ]
        },
        {
          "metadata": {
            "tags": null
          },
          "name": "stderr",
          "output_type": "stream",
          "text": [
            "Loss=0.88886559009552 Batch_id=390 Accuracy=70.50: 100%|██████████| 391/391 [00:26<00:00, 14.72it/s]\n"
          ]
        },
        {
          "metadata": {
            "tags": null
          },
          "name": "stdout",
          "output_type": "stream",
          "text": [
            "\n",
            "Test set: Average loss: 0.9081, Accuracy: 6833/10000 (68.33%)\n",
            "\n",
            "EPOCH: 28\n"
          ]
        },
        {
          "metadata": {
            "tags": null
          },
          "name": "stderr",
          "output_type": "stream",
          "text": [
            "Loss=0.8862558603286743 Batch_id=390 Accuracy=70.54: 100%|██████████| 391/391 [00:26<00:00, 14.82it/s]\n"
          ]
        },
        {
          "metadata": {
            "tags": null
          },
          "name": "stdout",
          "output_type": "stream",
          "text": [
            "\n",
            "Test set: Average loss: 0.8871, Accuracy: 6886/10000 (68.86%)\n",
            "\n",
            "EPOCH: 29\n"
          ]
        },
        {
          "metadata": {
            "tags": null
          },
          "name": "stderr",
          "output_type": "stream",
          "text": [
            "Loss=0.8804750442504883 Batch_id=390 Accuracy=70.51: 100%|██████████| 391/391 [00:26<00:00, 14.76it/s]\n"
          ]
        },
        {
          "metadata": {
            "tags": null
          },
          "name": "stdout",
          "output_type": "stream",
          "text": [
            "\n",
            "Test set: Average loss: 0.8888, Accuracy: 6867/10000 (68.67%)\n",
            "\n",
            "EPOCH: 30\n"
          ]
        },
        {
          "metadata": {
            "tags": null
          },
          "name": "stderr",
          "output_type": "stream",
          "text": [
            "Loss=1.0068082809448242 Batch_id=390 Accuracy=71.24: 100%|██████████| 391/391 [00:26<00:00, 14.76it/s]\n"
          ]
        },
        {
          "metadata": {
            "tags": null
          },
          "name": "stdout",
          "output_type": "stream",
          "text": [
            "\n",
            "Test set: Average loss: 0.9177, Accuracy: 6834/10000 (68.34%)\n",
            "\n",
            "EPOCH: 31\n"
          ]
        },
        {
          "output_type": "stream",
          "name": "stderr",
          "text": [
            "Loss=0.6532394886016846 Batch_id=390 Accuracy=71.04: 100%|██████████| 391/391 [00:26<00:00, 14.92it/s]\n"
          ]
        },
        {
          "output_type": "stream",
          "name": "stdout",
          "text": [
            "\n",
            "Test set: Average loss: 0.9046, Accuracy: 6878/10000 (68.78%)\n",
            "\n",
            "EPOCH: 32\n"
          ]
        },
        {
          "output_type": "stream",
          "name": "stderr",
          "text": [
            "Loss=0.7725155353546143 Batch_id=390 Accuracy=71.52: 100%|██████████| 391/391 [00:27<00:00, 14.45it/s]\n"
          ]
        },
        {
          "output_type": "stream",
          "name": "stdout",
          "text": [
            "\n",
            "Test set: Average loss: 0.8733, Accuracy: 6935/10000 (69.35%)\n",
            "\n",
            "EPOCH: 33\n"
          ]
        },
        {
          "output_type": "stream",
          "name": "stderr",
          "text": [
            "Loss=0.6885388493537903 Batch_id=390 Accuracy=71.52: 100%|██████████| 391/391 [00:26<00:00, 14.56it/s]\n"
          ]
        },
        {
          "output_type": "error",
          "ename": "TypeError",
          "evalue": "ignored",
          "traceback": [
            "\u001b[0;31m---------------------------------------------------------------------------\u001b[0m",
            "\u001b[0;31mTypeError\u001b[0m                                 Traceback (most recent call last)",
            "\u001b[0;32m<ipython-input-10-c36582b86a22>\u001b[0m in \u001b[0;36m<cell line: 2>\u001b[0;34m()\u001b[0m\n\u001b[1;32m      1\u001b[0m \u001b[0moptimizer\u001b[0m \u001b[0;34m=\u001b[0m \u001b[0mutil\u001b[0m\u001b[0;34m.\u001b[0m\u001b[0mload_optimizer\u001b[0m\u001b[0;34m(\u001b[0m\u001b[0mmodel\u001b[0m\u001b[0;34m=\u001b[0m\u001b[0mmodel_1\u001b[0m\u001b[0;34m)\u001b[0m\u001b[0;34m\u001b[0m\u001b[0;34m\u001b[0m\u001b[0m\n\u001b[0;32m----> 2\u001b[0;31m train_acc, train_losses, test_acc, test_losses, misclassified_images_for_all_epochs, misclassified_labels_for_all_epochs = util.run_epochs(model=model_1, device=device, train_loader=train_loader,\n\u001b[0m\u001b[1;32m      3\u001b[0m                                                                  test_loader=test_loader, numberOfEpochs=100)\n",
            "\u001b[0;32m/content/drive/MyDrive/ERA-Session-9/util.py\u001b[0m in \u001b[0;36mrun_epochs\u001b[0;34m(model, device, train_loader, test_loader, numberOfEpochs)\u001b[0m\n\u001b[1;32m    233\u001b[0m                                                                       \u001b[0mtrain_loader\u001b[0m\u001b[0;34m=\u001b[0m\u001b[0mtrain_loader\u001b[0m\u001b[0;34m,\u001b[0m \u001b[0moptimizer\u001b[0m\u001b[0;34m=\u001b[0m\u001b[0moptimizer\u001b[0m\u001b[0;34m,\u001b[0m\u001b[0;34m\u001b[0m\u001b[0;34m\u001b[0m\u001b[0m\n\u001b[1;32m    234\u001b[0m                                                                       epoch=epoch)\n\u001b[0;32m--> 235\u001b[0;31m         test_acc_for_each_epoch, test_losses_for_each_epoch, local_misclassified_images, local_correct_labels = test(model=model, device=device, \n\u001b[0m\u001b[1;32m    236\u001b[0m                                                                    test_loader=test_loader)\n\u001b[1;32m    237\u001b[0m \u001b[0;34m\u001b[0m\u001b[0m\n",
            "\u001b[0;32m/content/drive/MyDrive/ERA-Session-9/util.py\u001b[0m in \u001b[0;36mtest\u001b[0;34m(model, device, test_loader)\u001b[0m\n\u001b[1;32m    194\u001b[0m             \u001b[0mincorrect_mask\u001b[0m \u001b[0;34m=\u001b[0m \u001b[0;34m~\u001b[0m\u001b[0mpred\u001b[0m\u001b[0;34m.\u001b[0m\u001b[0meq\u001b[0m\u001b[0;34m(\u001b[0m\u001b[0mtarget\u001b[0m\u001b[0;34m.\u001b[0m\u001b[0mview_as\u001b[0m\u001b[0;34m(\u001b[0m\u001b[0mpred\u001b[0m\u001b[0;34m)\u001b[0m\u001b[0;34m)\u001b[0m\u001b[0;34m.\u001b[0m\u001b[0msqueeze\u001b[0m\u001b[0;34m(\u001b[0m\u001b[0;34m)\u001b[0m\u001b[0;34m\u001b[0m\u001b[0;34m\u001b[0m\u001b[0m\n\u001b[1;32m    195\u001b[0m             \u001b[0mmisclassified_images\u001b[0m\u001b[0;34m.\u001b[0m\u001b[0mextend\u001b[0m\u001b[0;34m(\u001b[0m\u001b[0mdata\u001b[0m\u001b[0;34m[\u001b[0m\u001b[0mincorrect_mask\u001b[0m\u001b[0;34m]\u001b[0m\u001b[0;34m)\u001b[0m\u001b[0;34m\u001b[0m\u001b[0;34m\u001b[0m\u001b[0m\n\u001b[0;32m--> 196\u001b[0;31m             \u001b[0mmisclassified_labels\u001b[0m\u001b[0;34m.\u001b[0m\u001b[0mextend\u001b[0m\u001b[0;34m(\u001b[0m\u001b[0mtarget\u001b[0m\u001b[0;34m[\u001b[0m\u001b[0mincorrect_mask\u001b[0m\u001b[0;34m]\u001b[0m\u001b[0;34m.\u001b[0m\u001b[0msqueeze\u001b[0m\u001b[0;34m(\u001b[0m\u001b[0;34m)\u001b[0m\u001b[0;34m)\u001b[0m\u001b[0;34m\u001b[0m\u001b[0;34m\u001b[0m\u001b[0m\n\u001b[0m\u001b[1;32m    197\u001b[0m \u001b[0;34m\u001b[0m\u001b[0m\n\u001b[1;32m    198\u001b[0m             \u001b[0mcorrect\u001b[0m \u001b[0;34m+=\u001b[0m \u001b[0mpred\u001b[0m\u001b[0;34m.\u001b[0m\u001b[0meq\u001b[0m\u001b[0;34m(\u001b[0m\u001b[0mtarget\u001b[0m\u001b[0;34m.\u001b[0m\u001b[0mview_as\u001b[0m\u001b[0;34m(\u001b[0m\u001b[0mpred\u001b[0m\u001b[0;34m)\u001b[0m\u001b[0;34m)\u001b[0m\u001b[0;34m.\u001b[0m\u001b[0msum\u001b[0m\u001b[0;34m(\u001b[0m\u001b[0;34m)\u001b[0m\u001b[0;34m.\u001b[0m\u001b[0mitem\u001b[0m\u001b[0;34m(\u001b[0m\u001b[0;34m)\u001b[0m\u001b[0;34m\u001b[0m\u001b[0;34m\u001b[0m\u001b[0m\n",
            "\u001b[0;32m/usr/local/lib/python3.10/dist-packages/torch/_tensor.py\u001b[0m in \u001b[0;36m__iter__\u001b[0;34m(self)\u001b[0m\n\u001b[1;32m    928\u001b[0m         \u001b[0;31m# See gh-54457\u001b[0m\u001b[0;34m\u001b[0m\u001b[0;34m\u001b[0m\u001b[0m\n\u001b[1;32m    929\u001b[0m         \u001b[0;32mif\u001b[0m \u001b[0mself\u001b[0m\u001b[0;34m.\u001b[0m\u001b[0mdim\u001b[0m\u001b[0;34m(\u001b[0m\u001b[0;34m)\u001b[0m \u001b[0;34m==\u001b[0m \u001b[0;36m0\u001b[0m\u001b[0;34m:\u001b[0m\u001b[0;34m\u001b[0m\u001b[0;34m\u001b[0m\u001b[0m\n\u001b[0;32m--> 930\u001b[0;31m             \u001b[0;32mraise\u001b[0m \u001b[0mTypeError\u001b[0m\u001b[0;34m(\u001b[0m\u001b[0;34m\"iteration over a 0-d tensor\"\u001b[0m\u001b[0;34m)\u001b[0m\u001b[0;34m\u001b[0m\u001b[0;34m\u001b[0m\u001b[0m\n\u001b[0m\u001b[1;32m    931\u001b[0m         \u001b[0;32mif\u001b[0m \u001b[0mtorch\u001b[0m\u001b[0;34m.\u001b[0m\u001b[0m_C\u001b[0m\u001b[0;34m.\u001b[0m\u001b[0m_get_tracing_state\u001b[0m\u001b[0;34m(\u001b[0m\u001b[0;34m)\u001b[0m\u001b[0;34m:\u001b[0m\u001b[0;34m\u001b[0m\u001b[0;34m\u001b[0m\u001b[0m\n\u001b[1;32m    932\u001b[0m             warnings.warn(\n",
            "\u001b[0;31mTypeError\u001b[0m: iteration over a 0-d tensor"
          ]
        }
      ]
    },
    {
      "cell_type": "code",
      "source": [],
      "metadata": {
        "id": "S6hCgmbvSOvU"
      },
      "execution_count": null,
      "outputs": []
    }
  ]
}